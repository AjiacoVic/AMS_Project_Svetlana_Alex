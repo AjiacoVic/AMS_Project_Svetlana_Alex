{
 "cells": [
  {
   "cell_type": "code",
   "execution_count": 1,
   "metadata": {},
   "outputs": [],
   "source": [
    "import pandas as pd\n",
    "import numpy as np\n",
    "from functools import reduce"
   ]
  },
  {
   "cell_type": "code",
   "execution_count": 2,
   "metadata": {},
   "outputs": [],
   "source": [
    "## Importing the population pct from the shared Google drive\n",
    "\n",
    "orig_url = 'https://drive.google.com/file/d/1zIs9KhvOfe0X8c7DQA4UwqrZKNQj-W10/view?usp=sharing'\n",
    "file_id = orig_url.split('/')[-2] \n",
    "\n",
    "url = 'https://drive.google.com/uc?export=download&id=' + file_id \n",
    "\n",
    "##Reading it in the Jupiter Notebook\n",
    "pop_percentage = pd.read_excel(url, skiprows=13,nrows = 7, names=['Desc.','tbd','2014','2015','2016','2017','2018','2019','2020'])"
   ]
  },
  {
   "cell_type": "code",
   "execution_count": 3,
   "metadata": {},
   "outputs": [
    {
     "data": {
      "text/html": [
       "<div>\n",
       "<style scoped>\n",
       "    .dataframe tbody tr th:only-of-type {\n",
       "        vertical-align: middle;\n",
       "    }\n",
       "\n",
       "    .dataframe tbody tr th {\n",
       "        vertical-align: top;\n",
       "    }\n",
       "\n",
       "    .dataframe thead th {\n",
       "        text-align: right;\n",
       "    }\n",
       "</style>\n",
       "<table border=\"1\" class=\"dataframe\">\n",
       "  <thead>\n",
       "    <tr style=\"text-align: right;\">\n",
       "      <th></th>\n",
       "      <th>Desc.</th>\n",
       "      <th>tbd</th>\n",
       "      <th>2014</th>\n",
       "      <th>2015</th>\n",
       "      <th>2016</th>\n",
       "      <th>2017</th>\n",
       "      <th>2018</th>\n",
       "      <th>2019</th>\n",
       "      <th>2020</th>\n",
       "    </tr>\n",
       "  </thead>\n",
       "  <tbody>\n",
       "    <tr>\n",
       "      <th>0</th>\n",
       "      <td>NaN</td>\n",
       "      <td>NaN</td>\n",
       "      <td>NaN</td>\n",
       "      <td>NaN</td>\n",
       "      <td>NaN</td>\n",
       "      <td>NaN</td>\n",
       "      <td>NaN</td>\n",
       "      <td>NaN</td>\n",
       "      <td>NaN</td>\n",
       "    </tr>\n",
       "    <tr>\n",
       "      <th>1</th>\n",
       "      <td>Amsterdam</td>\n",
       "      <td></td>\n",
       "      <td>1.4</td>\n",
       "      <td>1.5</td>\n",
       "      <td>1.2</td>\n",
       "      <td>1.1</td>\n",
       "      <td>1.0</td>\n",
       "      <td>1.1</td>\n",
       "      <td>NaN</td>\n",
       "    </tr>\n",
       "    <tr>\n",
       "      <th>2</th>\n",
       "      <td>Rotterdam</td>\n",
       "      <td></td>\n",
       "      <td>0.9</td>\n",
       "      <td>1.0</td>\n",
       "      <td>0.8</td>\n",
       "      <td>0.6</td>\n",
       "      <td>0.9</td>\n",
       "      <td>1.0</td>\n",
       "      <td>NaN</td>\n",
       "    </tr>\n",
       "    <tr>\n",
       "      <th>3</th>\n",
       "      <td>'s-Gravenhage</td>\n",
       "      <td></td>\n",
       "      <td>1.2</td>\n",
       "      <td>1.0</td>\n",
       "      <td>0.9</td>\n",
       "      <td>1.5</td>\n",
       "      <td>1.0</td>\n",
       "      <td>1.5</td>\n",
       "      <td>NaN</td>\n",
       "    </tr>\n",
       "    <tr>\n",
       "      <th>4</th>\n",
       "      <td>Utrecht</td>\n",
       "      <td></td>\n",
       "      <td>1.8</td>\n",
       "      <td>1.4</td>\n",
       "      <td>1.2</td>\n",
       "      <td>1.3</td>\n",
       "      <td>1.5</td>\n",
       "      <td>1.3</td>\n",
       "      <td>NaN</td>\n",
       "    </tr>\n",
       "    <tr>\n",
       "      <th>5</th>\n",
       "      <td>Nederland</td>\n",
       "      <td>NaN</td>\n",
       "      <td>0.4</td>\n",
       "      <td>0.5</td>\n",
       "      <td>0.6</td>\n",
       "      <td>0.6</td>\n",
       "      <td>0.6</td>\n",
       "      <td>0.7</td>\n",
       "      <td>NaN</td>\n",
       "    </tr>\n",
       "    <tr>\n",
       "      <th>6</th>\n",
       "      <td>NaN</td>\n",
       "      <td>NaN</td>\n",
       "      <td>NaN</td>\n",
       "      <td>NaN</td>\n",
       "      <td>NaN</td>\n",
       "      <td>NaN</td>\n",
       "      <td>NaN</td>\n",
       "      <td>NaN</td>\n",
       "      <td>NaN</td>\n",
       "    </tr>\n",
       "  </tbody>\n",
       "</table>\n",
       "</div>"
      ],
      "text/plain": [
       "           Desc.  tbd  2014  2015  2016  2017  2018  2019  2020\n",
       "0            NaN  NaN   NaN   NaN   NaN   NaN   NaN   NaN   NaN\n",
       "1      Amsterdam        1.4   1.5   1.2   1.1   1.0   1.1   NaN\n",
       "2      Rotterdam        0.9   1.0   0.8   0.6   0.9   1.0   NaN\n",
       "3  's-Gravenhage        1.2   1.0   0.9   1.5   1.0   1.5   NaN\n",
       "4        Utrecht        1.8   1.4   1.2   1.3   1.5   1.3   NaN\n",
       "5      Nederland  NaN   0.4   0.5   0.6   0.6   0.6   0.7   NaN\n",
       "6            NaN  NaN   NaN   NaN   NaN   NaN   NaN   NaN   NaN"
      ]
     },
     "execution_count": 3,
     "metadata": {},
     "output_type": "execute_result"
    }
   ],
   "source": [
    "pop_percentage "
   ]
  },
  {
   "cell_type": "code",
   "execution_count": 4,
   "metadata": {},
   "outputs": [],
   "source": [
    "#Dropping unncessary columns + rows\n",
    "\n",
    "pop_percentage  = pop_percentage.drop(['tbd','2014','2015','2020'], axis=1)\n",
    "pop_percentage  = pop_percentage.drop([0,2,3,4,6], axis=0)"
   ]
  },
  {
   "cell_type": "code",
   "execution_count": 5,
   "metadata": {},
   "outputs": [
    {
     "name": "stderr",
     "output_type": "stream",
     "text": [
      "<ipython-input-5-0eaa8e6bfa7f>:1: SettingWithCopyWarning: \n",
      "A value is trying to be set on a copy of a slice from a DataFrame\n",
      "\n",
      "See the caveats in the documentation: https://pandas.pydata.org/pandas-docs/stable/user_guide/indexing.html#returning-a-view-versus-a-copy\n",
      "  pop_percentage ['Desc.'][1] = 'Pct_Population_AMS'\n",
      "<ipython-input-5-0eaa8e6bfa7f>:2: SettingWithCopyWarning: \n",
      "A value is trying to be set on a copy of a slice from a DataFrame\n",
      "\n",
      "See the caveats in the documentation: https://pandas.pydata.org/pandas-docs/stable/user_guide/indexing.html#returning-a-view-versus-a-copy\n",
      "  pop_percentage ['Desc.'][5] = 'Pct_Population_NL'\n"
     ]
    }
   ],
   "source": [
    "pop_percentage ['Desc.'][1] = 'Pct_Population_AMS'\n",
    "pop_percentage ['Desc.'][5] = 'Pct_Population_NL'"
   ]
  },
  {
   "cell_type": "code",
   "execution_count": 6,
   "metadata": {},
   "outputs": [
    {
     "data": {
      "text/html": [
       "<div>\n",
       "<style scoped>\n",
       "    .dataframe tbody tr th:only-of-type {\n",
       "        vertical-align: middle;\n",
       "    }\n",
       "\n",
       "    .dataframe tbody tr th {\n",
       "        vertical-align: top;\n",
       "    }\n",
       "\n",
       "    .dataframe thead th {\n",
       "        text-align: right;\n",
       "    }\n",
       "</style>\n",
       "<table border=\"1\" class=\"dataframe\">\n",
       "  <thead>\n",
       "    <tr style=\"text-align: right;\">\n",
       "      <th></th>\n",
       "      <th>Desc.</th>\n",
       "      <th>2016</th>\n",
       "      <th>2017</th>\n",
       "      <th>2018</th>\n",
       "      <th>2019</th>\n",
       "    </tr>\n",
       "  </thead>\n",
       "  <tbody>\n",
       "    <tr>\n",
       "      <th>1</th>\n",
       "      <td>Pct_Population_AMS</td>\n",
       "      <td>1.2</td>\n",
       "      <td>1.1</td>\n",
       "      <td>1.0</td>\n",
       "      <td>1.1</td>\n",
       "    </tr>\n",
       "    <tr>\n",
       "      <th>5</th>\n",
       "      <td>Pct_Population_NL</td>\n",
       "      <td>0.6</td>\n",
       "      <td>0.6</td>\n",
       "      <td>0.6</td>\n",
       "      <td>0.7</td>\n",
       "    </tr>\n",
       "  </tbody>\n",
       "</table>\n",
       "</div>"
      ],
      "text/plain": [
       "                Desc.  2016  2017  2018  2019\n",
       "1  Pct_Population_AMS   1.2   1.1   1.0   1.1\n",
       "5   Pct_Population_NL   0.6   0.6   0.6   0.7"
      ]
     },
     "execution_count": 6,
     "metadata": {},
     "output_type": "execute_result"
    }
   ],
   "source": [
    "pop_percentage "
   ]
  },
  {
   "cell_type": "code",
   "execution_count": 15,
   "metadata": {},
   "outputs": [],
   "source": [
    " ## Importing the table Popuplation increase from the shared Google drive\n",
    "url = 'https://drive.google.com/uc?export=download&id='\n",
    "\n",
    "orig_url = 'https://drive.google.com/file/d/1zIs9KhvOfe0X8c7DQA4UwqrZKNQj-W10/view?usp=sharing'\n",
    "file_id = orig_url.split('/')[-2] \n",
    "\n",
    "url = 'https://drive.google.com/uc?export=download&id=' + file_id \n",
    "\n",
    "##Reading it in the Jupiter Notebook\n",
    "population= pd.read_excel(url, skiprows=4,nrows = 7, names=['Desc.','start2014','2014','2015','2016','2017','2018','2019','tbd'])\n",
    "\n"
   ]
  },
  {
   "cell_type": "code",
   "execution_count": 16,
   "metadata": {},
   "outputs": [
    {
     "data": {
      "text/html": [
       "<div>\n",
       "<style scoped>\n",
       "    .dataframe tbody tr th:only-of-type {\n",
       "        vertical-align: middle;\n",
       "    }\n",
       "\n",
       "    .dataframe tbody tr th {\n",
       "        vertical-align: top;\n",
       "    }\n",
       "\n",
       "    .dataframe thead th {\n",
       "        text-align: right;\n",
       "    }\n",
       "</style>\n",
       "<table border=\"1\" class=\"dataframe\">\n",
       "  <thead>\n",
       "    <tr style=\"text-align: right;\">\n",
       "      <th></th>\n",
       "      <th>Desc.</th>\n",
       "      <th>start2014</th>\n",
       "      <th>2014</th>\n",
       "      <th>2015</th>\n",
       "      <th>2016</th>\n",
       "      <th>2017</th>\n",
       "      <th>2018</th>\n",
       "      <th>2019</th>\n",
       "      <th>tbd</th>\n",
       "    </tr>\n",
       "  </thead>\n",
       "  <tbody>\n",
       "    <tr>\n",
       "      <th>0</th>\n",
       "      <td>NaN</td>\n",
       "      <td>NaN</td>\n",
       "      <td>NaN</td>\n",
       "      <td>NaN</td>\n",
       "      <td>NaN</td>\n",
       "      <td>NaN</td>\n",
       "      <td>NaN</td>\n",
       "      <td>NaN</td>\n",
       "      <td>NaN</td>\n",
       "    </tr>\n",
       "    <tr>\n",
       "      <th>1</th>\n",
       "      <td>Amsterdam</td>\n",
       "      <td>811185.0</td>\n",
       "      <td>11087.0</td>\n",
       "      <td>12441.0</td>\n",
       "      <td>10239.0</td>\n",
       "      <td>9364.0</td>\n",
       "      <td>8671.0</td>\n",
       "      <td>9393.0</td>\n",
       "      <td>872380.0</td>\n",
       "    </tr>\n",
       "    <tr>\n",
       "      <th>2</th>\n",
       "      <td>Rotterdam</td>\n",
       "      <td>618357.0</td>\n",
       "      <td>5295.0</td>\n",
       "      <td>5954.0</td>\n",
       "      <td>5054.0</td>\n",
       "      <td>4052.0</td>\n",
       "      <td>5815.0</td>\n",
       "      <td>6550.0</td>\n",
       "      <td>651168.0</td>\n",
       "    </tr>\n",
       "    <tr>\n",
       "      <th>3</th>\n",
       "      <td>'s-Gravenhage</td>\n",
       "      <td>508940.0</td>\n",
       "      <td>5921.0</td>\n",
       "      <td>5127.0</td>\n",
       "      <td>4894.0</td>\n",
       "      <td>7679.0</td>\n",
       "      <td>5427.0</td>\n",
       "      <td>8005.0</td>\n",
       "      <td>545838.0</td>\n",
       "    </tr>\n",
       "    <tr>\n",
       "      <th>4</th>\n",
       "      <td>Utrecht</td>\n",
       "      <td>328164.0</td>\n",
       "      <td>6012.0</td>\n",
       "      <td>4791.0</td>\n",
       "      <td>4071.0</td>\n",
       "      <td>4445.0</td>\n",
       "      <td>5312.0</td>\n",
       "      <td>4731.0</td>\n",
       "      <td>357597.0</td>\n",
       "    </tr>\n",
       "    <tr>\n",
       "      <th>5</th>\n",
       "      <td>Nederland</td>\n",
       "      <td>16829289.0</td>\n",
       "      <td>71437.0</td>\n",
       "      <td>78394.0</td>\n",
       "      <td>102387.0</td>\n",
       "      <td>99577.0</td>\n",
       "      <td>101669.0</td>\n",
       "      <td>125422.0</td>\n",
       "      <td>17407585.0</td>\n",
       "    </tr>\n",
       "    <tr>\n",
       "      <th>6</th>\n",
       "      <td>NaN</td>\n",
       "      <td>NaN</td>\n",
       "      <td>NaN</td>\n",
       "      <td>NaN</td>\n",
       "      <td>NaN</td>\n",
       "      <td>NaN</td>\n",
       "      <td>NaN</td>\n",
       "      <td>NaN</td>\n",
       "      <td>NaN</td>\n",
       "    </tr>\n",
       "  </tbody>\n",
       "</table>\n",
       "</div>"
      ],
      "text/plain": [
       "           Desc.   start2014     2014     2015      2016     2017      2018  \\\n",
       "0            NaN         NaN      NaN      NaN       NaN      NaN       NaN   \n",
       "1      Amsterdam    811185.0  11087.0  12441.0   10239.0   9364.0    8671.0   \n",
       "2      Rotterdam    618357.0   5295.0   5954.0    5054.0   4052.0    5815.0   \n",
       "3  's-Gravenhage    508940.0   5921.0   5127.0    4894.0   7679.0    5427.0   \n",
       "4        Utrecht    328164.0   6012.0   4791.0    4071.0   4445.0    5312.0   \n",
       "5      Nederland  16829289.0  71437.0  78394.0  102387.0  99577.0  101669.0   \n",
       "6            NaN         NaN      NaN      NaN       NaN      NaN       NaN   \n",
       "\n",
       "       2019         tbd  \n",
       "0       NaN         NaN  \n",
       "1    9393.0    872380.0  \n",
       "2    6550.0    651168.0  \n",
       "3    8005.0    545838.0  \n",
       "4    4731.0    357597.0  \n",
       "5  125422.0  17407585.0  \n",
       "6       NaN         NaN  "
      ]
     },
     "execution_count": 16,
     "metadata": {},
     "output_type": "execute_result"
    }
   ],
   "source": [
    "#Checking the table for preparing the data\n",
    "population"
   ]
  },
  {
   "cell_type": "code",
   "execution_count": 17,
   "metadata": {},
   "outputs": [],
   "source": [
    "#Dropping unncessary columns + rows\n",
    "\n",
    "population = population.drop(['tbd','2014','2015'], axis=1)\n",
    "population = population.drop([0,2,3,4,6], axis=0)\n"
   ]
  },
  {
   "cell_type": "code",
   "execution_count": 18,
   "metadata": {},
   "outputs": [
    {
     "name": "stderr",
     "output_type": "stream",
     "text": [
      "<ipython-input-18-ebb7bb9554ed>:2: SettingWithCopyWarning: \n",
      "A value is trying to be set on a copy of a slice from a DataFrame\n",
      "\n",
      "See the caveats in the documentation: https://pandas.pydata.org/pandas-docs/stable/user_guide/indexing.html#returning-a-view-versus-a-copy\n",
      "  population['Desc.'][1] = 'Pop_Increase_AMS'\n",
      "<ipython-input-18-ebb7bb9554ed>:3: SettingWithCopyWarning: \n",
      "A value is trying to be set on a copy of a slice from a DataFrame\n",
      "\n",
      "See the caveats in the documentation: https://pandas.pydata.org/pandas-docs/stable/user_guide/indexing.html#returning-a-view-versus-a-copy\n",
      "  population['Desc.'][5] = 'Pop_Increase_NL'\n"
     ]
    },
    {
     "data": {
      "text/html": [
       "<div>\n",
       "<style scoped>\n",
       "    .dataframe tbody tr th:only-of-type {\n",
       "        vertical-align: middle;\n",
       "    }\n",
       "\n",
       "    .dataframe tbody tr th {\n",
       "        vertical-align: top;\n",
       "    }\n",
       "\n",
       "    .dataframe thead th {\n",
       "        text-align: right;\n",
       "    }\n",
       "</style>\n",
       "<table border=\"1\" class=\"dataframe\">\n",
       "  <thead>\n",
       "    <tr style=\"text-align: right;\">\n",
       "      <th></th>\n",
       "      <th>Desc.</th>\n",
       "      <th>start2014</th>\n",
       "      <th>2016</th>\n",
       "      <th>2017</th>\n",
       "      <th>2018</th>\n",
       "      <th>2019</th>\n",
       "    </tr>\n",
       "  </thead>\n",
       "  <tbody>\n",
       "    <tr>\n",
       "      <th>1</th>\n",
       "      <td>Pop_Increase_AMS</td>\n",
       "      <td>811185.0</td>\n",
       "      <td>10239.0</td>\n",
       "      <td>9364.0</td>\n",
       "      <td>8671.0</td>\n",
       "      <td>9393.0</td>\n",
       "    </tr>\n",
       "    <tr>\n",
       "      <th>5</th>\n",
       "      <td>Pop_Increase_NL</td>\n",
       "      <td>16829289.0</td>\n",
       "      <td>102387.0</td>\n",
       "      <td>99577.0</td>\n",
       "      <td>101669.0</td>\n",
       "      <td>125422.0</td>\n",
       "    </tr>\n",
       "  </tbody>\n",
       "</table>\n",
       "</div>"
      ],
      "text/plain": [
       "              Desc.   start2014      2016     2017      2018      2019\n",
       "1  Pop_Increase_AMS    811185.0   10239.0   9364.0    8671.0    9393.0\n",
       "5   Pop_Increase_NL  16829289.0  102387.0  99577.0  101669.0  125422.0"
      ]
     },
     "execution_count": 18,
     "metadata": {},
     "output_type": "execute_result"
    }
   ],
   "source": [
    "#Changing the names of the key rows to meaningful names\n",
    "population['Desc.'][1] = 'Pop_Increase_AMS'\n",
    "population['Desc.'][5] = 'Pop_Increase_NL'\n",
    "\n",
    "population"
   ]
  },
  {
   "cell_type": "code",
   "execution_count": 19,
   "metadata": {},
   "outputs": [
    {
     "data": {
      "text/html": [
       "<div>\n",
       "<style scoped>\n",
       "    .dataframe tbody tr th:only-of-type {\n",
       "        vertical-align: middle;\n",
       "    }\n",
       "\n",
       "    .dataframe tbody tr th {\n",
       "        vertical-align: top;\n",
       "    }\n",
       "\n",
       "    .dataframe thead th {\n",
       "        text-align: right;\n",
       "    }\n",
       "</style>\n",
       "<table border=\"1\" class=\"dataframe\">\n",
       "  <thead>\n",
       "    <tr style=\"text-align: right;\">\n",
       "      <th></th>\n",
       "      <th>1</th>\n",
       "      <th>5</th>\n",
       "    </tr>\n",
       "  </thead>\n",
       "  <tbody>\n",
       "    <tr>\n",
       "      <th>Desc.</th>\n",
       "      <td>Pop_Increase_AMS</td>\n",
       "      <td>Pop_Increase_NL</td>\n",
       "    </tr>\n",
       "    <tr>\n",
       "      <th>start2014</th>\n",
       "      <td>811185</td>\n",
       "      <td>1.68293e+07</td>\n",
       "    </tr>\n",
       "    <tr>\n",
       "      <th>2016</th>\n",
       "      <td>10239</td>\n",
       "      <td>102387</td>\n",
       "    </tr>\n",
       "    <tr>\n",
       "      <th>2017</th>\n",
       "      <td>9364</td>\n",
       "      <td>99577</td>\n",
       "    </tr>\n",
       "    <tr>\n",
       "      <th>2018</th>\n",
       "      <td>8671</td>\n",
       "      <td>101669</td>\n",
       "    </tr>\n",
       "    <tr>\n",
       "      <th>2019</th>\n",
       "      <td>9393</td>\n",
       "      <td>125422</td>\n",
       "    </tr>\n",
       "  </tbody>\n",
       "</table>\n",
       "</div>"
      ],
      "text/plain": [
       "                          1                5\n",
       "Desc.      Pop_Increase_AMS  Pop_Increase_NL\n",
       "start2014            811185      1.68293e+07\n",
       "2016                  10239           102387\n",
       "2017                   9364            99577\n",
       "2018                   8671           101669\n",
       "2019                   9393           125422"
      ]
     },
     "execution_count": 19,
     "metadata": {},
     "output_type": "execute_result"
    }
   ],
   "source": [
    "#The data in this table is incremental, so we need to calculate it, and for that I star by transposing\n",
    "population.transpose()"
   ]
  },
  {
   "cell_type": "code",
   "execution_count": 37,
   "metadata": {},
   "outputs": [
    {
     "data": {
      "text/plain": [
       "[102387.0, 99577.0, 101669.0, 125422.0]"
      ]
     },
     "execution_count": 37,
     "metadata": {},
     "output_type": "execute_result"
    }
   ],
   "source": [
    "#In order to calculate it easily, I have created 2 lists\n",
    "popNL = list(population.iloc[1])[2:]\n",
    "popNL"
   ]
  },
  {
   "cell_type": "code",
   "execution_count": 43,
   "metadata": {},
   "outputs": [
    {
     "data": {
      "text/plain": [
       "['Pop_Increase_NL', 16829300.0, 16931687.0, 17031264.0, 17132933.0, 17258355.0]"
      ]
     },
     "execution_count": 43,
     "metadata": {},
     "output_type": "execute_result"
    }
   ],
   "source": [
    "population_NL =1.68293e+07\n",
    "popN=['Pop_Increase_NL',1.68293e+07,]\n",
    "for p in popNL:\n",
    "    population_NL += p\n",
    "    popN.append(population_NL)\n",
    "popN  "
   ]
  },
  {
   "cell_type": "code",
   "execution_count": 38,
   "metadata": {},
   "outputs": [
    {
     "data": {
      "text/plain": [
       "[10239.0, 9364.0, 8671.0, 9393.0]"
      ]
     },
     "execution_count": 38,
     "metadata": {},
     "output_type": "execute_result"
    }
   ],
   "source": [
    "popAMS = list((population.iloc[0])[2:])\n",
    "popAMS"
   ]
  },
  {
   "cell_type": "code",
   "execution_count": 42,
   "metadata": {},
   "outputs": [
    {
     "data": {
      "text/plain": [
       "['Pop_Increase_AMS', 811185, 821424.0, 830788.0, 839459.0, 848852.0]"
      ]
     },
     "execution_count": 42,
     "metadata": {},
     "output_type": "execute_result"
    }
   ],
   "source": [
    "population_AMS =811185\n",
    "popA=['Pop_Increase_AMS',811185,]\n",
    "for p in popAMS:\n",
    "    population_AMS += p\n",
    "    popA.append(population_AMS)\n",
    "popA  "
   ]
  },
  {
   "cell_type": "code",
   "execution_count": 45,
   "metadata": {},
   "outputs": [],
   "source": [
    "#Here i added back the lists to the dataframe\n",
    "population.iloc[1]= popN\n",
    "population.iloc[0]= popA"
   ]
  },
  {
   "cell_type": "code",
   "execution_count": 46,
   "metadata": {},
   "outputs": [
    {
     "data": {
      "text/html": [
       "<div>\n",
       "<style scoped>\n",
       "    .dataframe tbody tr th:only-of-type {\n",
       "        vertical-align: middle;\n",
       "    }\n",
       "\n",
       "    .dataframe tbody tr th {\n",
       "        vertical-align: top;\n",
       "    }\n",
       "\n",
       "    .dataframe thead th {\n",
       "        text-align: right;\n",
       "    }\n",
       "</style>\n",
       "<table border=\"1\" class=\"dataframe\">\n",
       "  <thead>\n",
       "    <tr style=\"text-align: right;\">\n",
       "      <th></th>\n",
       "      <th>Desc.</th>\n",
       "      <th>start2014</th>\n",
       "      <th>2016</th>\n",
       "      <th>2017</th>\n",
       "      <th>2018</th>\n",
       "      <th>2019</th>\n",
       "    </tr>\n",
       "  </thead>\n",
       "  <tbody>\n",
       "    <tr>\n",
       "      <th>1</th>\n",
       "      <td>Pop_Increase_AMS</td>\n",
       "      <td>811185.0</td>\n",
       "      <td>821424.0</td>\n",
       "      <td>830788.0</td>\n",
       "      <td>839459.0</td>\n",
       "      <td>848852.0</td>\n",
       "    </tr>\n",
       "    <tr>\n",
       "      <th>5</th>\n",
       "      <td>Pop_Increase_NL</td>\n",
       "      <td>16829300.0</td>\n",
       "      <td>16931687.0</td>\n",
       "      <td>17031264.0</td>\n",
       "      <td>17132933.0</td>\n",
       "      <td>17258355.0</td>\n",
       "    </tr>\n",
       "  </tbody>\n",
       "</table>\n",
       "</div>"
      ],
      "text/plain": [
       "              Desc.   start2014        2016        2017        2018  \\\n",
       "1  Pop_Increase_AMS    811185.0    821424.0    830788.0    839459.0   \n",
       "5   Pop_Increase_NL  16829300.0  16931687.0  17031264.0  17132933.0   \n",
       "\n",
       "         2019  \n",
       "1    848852.0  \n",
       "5  17258355.0  "
      ]
     },
     "execution_count": 46,
     "metadata": {},
     "output_type": "execute_result"
    }
   ],
   "source": [
    "population"
   ]
  },
  {
   "cell_type": "code",
   "execution_count": 47,
   "metadata": {},
   "outputs": [
    {
     "data": {
      "text/html": [
       "<div>\n",
       "<style scoped>\n",
       "    .dataframe tbody tr th:only-of-type {\n",
       "        vertical-align: middle;\n",
       "    }\n",
       "\n",
       "    .dataframe tbody tr th {\n",
       "        vertical-align: top;\n",
       "    }\n",
       "\n",
       "    .dataframe thead th {\n",
       "        text-align: right;\n",
       "    }\n",
       "</style>\n",
       "<table border=\"1\" class=\"dataframe\">\n",
       "  <thead>\n",
       "    <tr style=\"text-align: right;\">\n",
       "      <th></th>\n",
       "      <th>Desc.</th>\n",
       "      <th>2016</th>\n",
       "      <th>2017</th>\n",
       "      <th>2018</th>\n",
       "      <th>2019</th>\n",
       "    </tr>\n",
       "  </thead>\n",
       "  <tbody>\n",
       "    <tr>\n",
       "      <th>1</th>\n",
       "      <td>Pop_Increase_AMS</td>\n",
       "      <td>821424.0</td>\n",
       "      <td>830788.0</td>\n",
       "      <td>839459.0</td>\n",
       "      <td>848852.0</td>\n",
       "    </tr>\n",
       "    <tr>\n",
       "      <th>5</th>\n",
       "      <td>Pop_Increase_NL</td>\n",
       "      <td>16931687.0</td>\n",
       "      <td>17031264.0</td>\n",
       "      <td>17132933.0</td>\n",
       "      <td>17258355.0</td>\n",
       "    </tr>\n",
       "  </tbody>\n",
       "</table>\n",
       "</div>"
      ],
      "text/plain": [
       "              Desc.        2016        2017        2018        2019\n",
       "1  Pop_Increase_AMS    821424.0    830788.0    839459.0    848852.0\n",
       "5   Pop_Increase_NL  16931687.0  17031264.0  17132933.0  17258355.0"
      ]
     },
     "execution_count": 47,
     "metadata": {},
     "output_type": "execute_result"
    }
   ],
   "source": [
    "population.drop(['start2014'], axis=1)"
   ]
  },
  {
   "cell_type": "code",
   "execution_count": null,
   "metadata": {},
   "outputs": [],
   "source": []
  }
 ],
 "metadata": {
  "kernelspec": {
   "display_name": "Python 3",
   "language": "python",
   "name": "python3"
  },
  "language_info": {
   "codemirror_mode": {
    "name": "ipython",
    "version": 3
   },
   "file_extension": ".py",
   "mimetype": "text/x-python",
   "name": "python",
   "nbconvert_exporter": "python",
   "pygments_lexer": "ipython3",
   "version": "3.8.6"
  }
 },
 "nbformat": 4,
 "nbformat_minor": 4
}
