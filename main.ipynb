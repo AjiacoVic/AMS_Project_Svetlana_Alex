{
 "cells": [
  {
   "cell_type": "code",
   "execution_count": 25,
   "metadata": {},
   "outputs": [
    {
     "name": "stderr",
     "output_type": "stream",
     "text": [
      "<ipython-input-25-a0516359850a>:7: ParserWarning: Falling back to the 'python' engine because the 'c' engine does not support regex separators (separators > 1 char and different from '\\s+' are interpreted as regex); you can avoid this warning by specifying engine='python'.\n",
      "  df_stollen = pd.read_csv(csv_raw, skiprows=6, sep='\";\"', names=['Desc', '2010', '2011', '2012', '2013', '2014', '2015',\n"
     ]
    },
    {
     "name": "stdout",
     "output_type": "stream",
     "text": [
      "            Desc   2016   2017   2018   2019\n",
      "2  Stollen bikes  96675  78835  68190  66690\n",
      "                Desc   2016   2017   2018   2019\n",
      "8  Confiscated bikes  65308  81128  78506  96061\n"
     ]
    },
    {
     "data": {
      "text/html": [
       "<div>\n",
       "<style scoped>\n",
       "    .dataframe tbody tr th:only-of-type {\n",
       "        vertical-align: middle;\n",
       "    }\n",
       "\n",
       "    .dataframe tbody tr th {\n",
       "        vertical-align: top;\n",
       "    }\n",
       "\n",
       "    .dataframe thead th {\n",
       "        text-align: right;\n",
       "    }\n",
       "</style>\n",
       "<table border=\"1\" class=\"dataframe\">\n",
       "  <thead>\n",
       "    <tr style=\"text-align: right;\">\n",
       "      <th></th>\n",
       "      <th>Desc</th>\n",
       "      <th>2016</th>\n",
       "      <th>2017</th>\n",
       "      <th>2018</th>\n",
       "      <th>2019</th>\n",
       "    </tr>\n",
       "  </thead>\n",
       "  <tbody>\n",
       "    <tr>\n",
       "      <th>2</th>\n",
       "      <td>Stollen bikes</td>\n",
       "      <td>96675</td>\n",
       "      <td>78835</td>\n",
       "      <td>68190</td>\n",
       "      <td>66690</td>\n",
       "    </tr>\n",
       "    <tr>\n",
       "      <th>8</th>\n",
       "      <td>Confiscated bikes</td>\n",
       "      <td>65308</td>\n",
       "      <td>81128</td>\n",
       "      <td>78506</td>\n",
       "      <td>96061</td>\n",
       "    </tr>\n",
       "  </tbody>\n",
       "</table>\n",
       "</div>"
      ],
      "text/plain": [
       "                Desc   2016   2017   2018   2019\n",
       "2      Stollen bikes  96675  78835  68190  66690\n",
       "8  Confiscated bikes  65308  81128  78506  96061"
      ]
     },
     "execution_count": 25,
     "metadata": {},
     "output_type": "execute_result"
    }
   ],
   "source": [
    "%run ./stollen.ipynb\n",
    "%run ./confiscated.ipynb\n",
    "print(total_stollen)\n",
    "print(total_conf)\n",
    "df = total_stollen\n",
    "df = df.append(total_conf.iloc[0])\n",
    "df"
   ]
  },
  {
   "cell_type": "code",
   "execution_count": null,
   "metadata": {},
   "outputs": [],
   "source": []
  }
 ],
 "metadata": {
  "kernelspec": {
   "display_name": "Python 3",
   "language": "python",
   "name": "python3"
  },
  "language_info": {
   "codemirror_mode": {
    "name": "ipython",
    "version": 3
   },
   "file_extension": ".py",
   "mimetype": "text/x-python",
   "name": "python",
   "nbconvert_exporter": "python",
   "pygments_lexer": "ipython3",
   "version": "3.8.3"
  }
 },
 "nbformat": 4,
 "nbformat_minor": 4
}
