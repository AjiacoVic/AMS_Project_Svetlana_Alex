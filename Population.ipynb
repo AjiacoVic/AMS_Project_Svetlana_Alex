{
 "cells": [
  {
   "cell_type": "code",
   "execution_count": 1,
   "metadata": {},
   "outputs": [],
   "source": [
    "import pandas as pd\n",
    "import numpy as np\n"
   ]
  },
  {
   "cell_type": "code",
   "execution_count": 15,
   "metadata": {},
   "outputs": [],
   "source": [
    "orig_url = 'https://drive.google.com/file/d/1zIs9KhvOfe0X8c7DQA4UwqrZKNQj-W10/view?usp=sharing'\n",
    "file_id = orig_url.split('/')[-2]\n",
    "url_1 = 'https://drive.google.com/uc?export=download&id=' + file_id"
   ]
  },
  {
   "cell_type": "code",
   "execution_count": 16,
   "metadata": {},
   "outputs": [],
   "source": [
    "df_population = pd.read_excel(url_1, skiprows=4, nrows=7, names =['Desc','tbd','2014','2015','2016','2017','2018','2019','2020'] )"
   ]
  },
  {
   "cell_type": "code",
   "execution_count": 17,
   "metadata": {},
   "outputs": [
    {
     "data": {
      "text/html": [
       "<div>\n",
       "<style scoped>\n",
       "    .dataframe tbody tr th:only-of-type {\n",
       "        vertical-align: middle;\n",
       "    }\n",
       "\n",
       "    .dataframe tbody tr th {\n",
       "        vertical-align: top;\n",
       "    }\n",
       "\n",
       "    .dataframe thead th {\n",
       "        text-align: right;\n",
       "    }\n",
       "</style>\n",
       "<table border=\"1\" class=\"dataframe\">\n",
       "  <thead>\n",
       "    <tr style=\"text-align: right;\">\n",
       "      <th></th>\n",
       "      <th>Desc</th>\n",
       "      <th>tbd</th>\n",
       "      <th>2014</th>\n",
       "      <th>2015</th>\n",
       "      <th>2016</th>\n",
       "      <th>2017</th>\n",
       "      <th>2018</th>\n",
       "      <th>2019</th>\n",
       "      <th>2020</th>\n",
       "    </tr>\n",
       "  </thead>\n",
       "  <tbody>\n",
       "    <tr>\n",
       "      <th>0</th>\n",
       "      <td>NaN</td>\n",
       "      <td>NaN</td>\n",
       "      <td>NaN</td>\n",
       "      <td>NaN</td>\n",
       "      <td>NaN</td>\n",
       "      <td>NaN</td>\n",
       "      <td>NaN</td>\n",
       "      <td>NaN</td>\n",
       "      <td>NaN</td>\n",
       "    </tr>\n",
       "    <tr>\n",
       "      <th>1</th>\n",
       "      <td>Amsterdam</td>\n",
       "      <td>811185.0</td>\n",
       "      <td>11087.0</td>\n",
       "      <td>12441.0</td>\n",
       "      <td>10239.0</td>\n",
       "      <td>9364.0</td>\n",
       "      <td>8671.0</td>\n",
       "      <td>9393.0</td>\n",
       "      <td>872380.0</td>\n",
       "    </tr>\n",
       "    <tr>\n",
       "      <th>2</th>\n",
       "      <td>Rotterdam</td>\n",
       "      <td>618357.0</td>\n",
       "      <td>5295.0</td>\n",
       "      <td>5954.0</td>\n",
       "      <td>5054.0</td>\n",
       "      <td>4052.0</td>\n",
       "      <td>5815.0</td>\n",
       "      <td>6550.0</td>\n",
       "      <td>651168.0</td>\n",
       "    </tr>\n",
       "    <tr>\n",
       "      <th>3</th>\n",
       "      <td>'s-Gravenhage</td>\n",
       "      <td>508940.0</td>\n",
       "      <td>5921.0</td>\n",
       "      <td>5127.0</td>\n",
       "      <td>4894.0</td>\n",
       "      <td>7679.0</td>\n",
       "      <td>5427.0</td>\n",
       "      <td>8005.0</td>\n",
       "      <td>545838.0</td>\n",
       "    </tr>\n",
       "    <tr>\n",
       "      <th>4</th>\n",
       "      <td>Utrecht</td>\n",
       "      <td>328164.0</td>\n",
       "      <td>6012.0</td>\n",
       "      <td>4791.0</td>\n",
       "      <td>4071.0</td>\n",
       "      <td>4445.0</td>\n",
       "      <td>5312.0</td>\n",
       "      <td>4731.0</td>\n",
       "      <td>357597.0</td>\n",
       "    </tr>\n",
       "  </tbody>\n",
       "</table>\n",
       "</div>"
      ],
      "text/plain": [
       "            Desc       tbd     2014     2015     2016    2017    2018    2019  \\\n",
       "0            NaN       NaN      NaN      NaN      NaN     NaN     NaN     NaN   \n",
       "1      Amsterdam  811185.0  11087.0  12441.0  10239.0  9364.0  8671.0  9393.0   \n",
       "2      Rotterdam  618357.0   5295.0   5954.0   5054.0  4052.0  5815.0  6550.0   \n",
       "3  's-Gravenhage  508940.0   5921.0   5127.0   4894.0  7679.0  5427.0  8005.0   \n",
       "4        Utrecht  328164.0   6012.0   4791.0   4071.0  4445.0  5312.0  4731.0   \n",
       "\n",
       "       2020  \n",
       "0       NaN  \n",
       "1  872380.0  \n",
       "2  651168.0  \n",
       "3  545838.0  \n",
       "4  357597.0  "
      ]
     },
     "execution_count": 17,
     "metadata": {},
     "output_type": "execute_result"
    }
   ],
   "source": [
    "df_population.head()"
   ]
  },
  {
   "cell_type": "code",
   "execution_count": 18,
   "metadata": {},
   "outputs": [],
   "source": [
    "df_population = df_population.drop(['tbd','2014','2015','2020'], axis=1)"
   ]
  },
  {
   "cell_type": "code",
   "execution_count": 19,
   "metadata": {},
   "outputs": [],
   "source": [
    "df_population = df_population.drop([0,2,3,4,6], axis=0)"
   ]
  },
  {
   "cell_type": "code",
   "execution_count": 20,
   "metadata": {},
   "outputs": [
    {
     "data": {
      "text/html": [
       "<div>\n",
       "<style scoped>\n",
       "    .dataframe tbody tr th:only-of-type {\n",
       "        vertical-align: middle;\n",
       "    }\n",
       "\n",
       "    .dataframe tbody tr th {\n",
       "        vertical-align: top;\n",
       "    }\n",
       "\n",
       "    .dataframe thead th {\n",
       "        text-align: right;\n",
       "    }\n",
       "</style>\n",
       "<table border=\"1\" class=\"dataframe\">\n",
       "  <thead>\n",
       "    <tr style=\"text-align: right;\">\n",
       "      <th></th>\n",
       "      <th>Desc</th>\n",
       "      <th>2016</th>\n",
       "      <th>2017</th>\n",
       "      <th>2018</th>\n",
       "      <th>2019</th>\n",
       "    </tr>\n",
       "  </thead>\n",
       "  <tbody>\n",
       "    <tr>\n",
       "      <th>1</th>\n",
       "      <td>Amsterdam</td>\n",
       "      <td>10239.0</td>\n",
       "      <td>9364.0</td>\n",
       "      <td>8671.0</td>\n",
       "      <td>9393.0</td>\n",
       "    </tr>\n",
       "    <tr>\n",
       "      <th>5</th>\n",
       "      <td>Nederland</td>\n",
       "      <td>102387.0</td>\n",
       "      <td>99577.0</td>\n",
       "      <td>101669.0</td>\n",
       "      <td>125422.0</td>\n",
       "    </tr>\n",
       "  </tbody>\n",
       "</table>\n",
       "</div>"
      ],
      "text/plain": [
       "        Desc      2016     2017      2018      2019\n",
       "1  Amsterdam   10239.0   9364.0    8671.0    9393.0\n",
       "5  Nederland  102387.0  99577.0  101669.0  125422.0"
      ]
     },
     "execution_count": 20,
     "metadata": {},
     "output_type": "execute_result"
    }
   ],
   "source": [
    "df_population"
   ]
  },
  {
   "cell_type": "code",
   "execution_count": 28,
   "metadata": {},
   "outputs": [
    {
     "name": "stderr",
     "output_type": "stream",
     "text": [
      "<ipython-input-28-837a705c2eea>:1: SettingWithCopyWarning: \n",
      "A value is trying to be set on a copy of a slice from a DataFrame\n",
      "\n",
      "See the caveats in the documentation: https://pandas.pydata.org/pandas-docs/stable/user_guide/indexing.html#returning-a-view-versus-a-copy\n",
      "  df_population['Desc'][1] = 'Increase_AMS'\n",
      "<ipython-input-28-837a705c2eea>:2: SettingWithCopyWarning: \n",
      "A value is trying to be set on a copy of a slice from a DataFrame\n",
      "\n",
      "See the caveats in the documentation: https://pandas.pydata.org/pandas-docs/stable/user_guide/indexing.html#returning-a-view-versus-a-copy\n",
      "  df_population['Desc'][5] = 'Increase_NL'\n"
     ]
    }
   ],
   "source": [
    "df_population['Desc'][1] = 'Increase_AMS'\n",
    "df_population['Desc'][5] = 'Increase_NL' "
   ]
  },
  {
   "cell_type": "code",
   "execution_count": 30,
   "metadata": {},
   "outputs": [
    {
     "data": {
      "text/html": [
       "<div>\n",
       "<style scoped>\n",
       "    .dataframe tbody tr th:only-of-type {\n",
       "        vertical-align: middle;\n",
       "    }\n",
       "\n",
       "    .dataframe tbody tr th {\n",
       "        vertical-align: top;\n",
       "    }\n",
       "\n",
       "    .dataframe thead th {\n",
       "        text-align: right;\n",
       "    }\n",
       "</style>\n",
       "<table border=\"1\" class=\"dataframe\">\n",
       "  <thead>\n",
       "    <tr style=\"text-align: right;\">\n",
       "      <th></th>\n",
       "      <th>Desc</th>\n",
       "      <th>2016</th>\n",
       "      <th>2017</th>\n",
       "      <th>2018</th>\n",
       "      <th>2019</th>\n",
       "    </tr>\n",
       "  </thead>\n",
       "  <tbody>\n",
       "    <tr>\n",
       "      <th>1</th>\n",
       "      <td>Increase_AMS</td>\n",
       "      <td>10239.0</td>\n",
       "      <td>9364.0</td>\n",
       "      <td>8671.0</td>\n",
       "      <td>9393.0</td>\n",
       "    </tr>\n",
       "    <tr>\n",
       "      <th>5</th>\n",
       "      <td>Increase_NL</td>\n",
       "      <td>102387.0</td>\n",
       "      <td>99577.0</td>\n",
       "      <td>101669.0</td>\n",
       "      <td>125422.0</td>\n",
       "    </tr>\n",
       "  </tbody>\n",
       "</table>\n",
       "</div>"
      ],
      "text/plain": [
       "           Desc      2016     2017      2018      2019\n",
       "1  Increase_AMS   10239.0   9364.0    8671.0    9393.0\n",
       "5   Increase_NL  102387.0  99577.0  101669.0  125422.0"
      ]
     },
     "execution_count": 30,
     "metadata": {},
     "output_type": "execute_result"
    }
   ],
   "source": [
    "df_population"
   ]
  },
  {
   "cell_type": "code",
   "execution_count": null,
   "metadata": {},
   "outputs": [],
   "source": []
  }
 ],
 "metadata": {
  "kernelspec": {
   "display_name": "Python 3",
   "language": "python",
   "name": "python3"
  },
  "language_info": {
   "codemirror_mode": {
    "name": "ipython",
    "version": 3
   },
   "file_extension": ".py",
   "mimetype": "text/x-python",
   "name": "python",
   "nbconvert_exporter": "python",
   "pygments_lexer": "ipython3",
   "version": "3.8.6"
  }
 },
 "nbformat": 4,
 "nbformat_minor": 4
}
