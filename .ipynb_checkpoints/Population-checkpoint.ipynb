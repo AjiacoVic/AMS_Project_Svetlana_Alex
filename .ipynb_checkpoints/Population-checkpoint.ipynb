{
 "cells": [
  {
   "cell_type": "code",
   "execution_count": 1,
   "metadata": {},
   "outputs": [],
   "source": [
    "import pandas as pd\n",
    "import numpy as np\n"
   ]
  },
  {
   "cell_type": "code",
   "execution_count": null,
   "metadata": {},
   "outputs": [],
   "source": [
    "file_id = orig_url.split('/')[-2]\n",
    "url = requests.get(dwn_url).text\n",
    "url_1 = 'https://drive.google.com/uc?export=download&id=' + file_id\n",
    "df_stollen = pd.read_csv(csv_raw, skiprows=6, sep='\";\"', names=['Desc', '2010', '2011', '2012', '2013', '2014', '2015', \n",
    "                                                                '2016', '2017', '2018', '2019'])"
   ]
  }
 ],
 "metadata": {
  "kernelspec": {
   "display_name": "Python 3",
   "language": "python",
   "name": "python3"
  },
  "language_info": {
   "codemirror_mode": {
    "name": "ipython",
    "version": 3
   },
   "file_extension": ".py",
   "mimetype": "text/x-python",
   "name": "python",
   "nbconvert_exporter": "python",
   "pygments_lexer": "ipython3",
   "version": "3.8.6"
  }
 },
 "nbformat": 4,
 "nbformat_minor": 4
}
