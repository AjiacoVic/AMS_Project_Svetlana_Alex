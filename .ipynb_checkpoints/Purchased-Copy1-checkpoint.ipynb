{
 "cells": [
  {
   "cell_type": "code",
   "execution_count": 1,
   "metadata": {},
   "outputs": [],
   "source": [
    "import pandas as pd\n",
    "import numpy as np\n",
    "import requests\n",
    "from io import StringIO"
   ]
  },
  {
   "cell_type": "code",
   "execution_count": 2,
   "metadata": {},
   "outputs": [
    {
     "data": {
      "text/html": [
       "<div>\n",
       "<style scoped>\n",
       "    .dataframe tbody tr th:only-of-type {\n",
       "        vertical-align: middle;\n",
       "    }\n",
       "\n",
       "    .dataframe tbody tr th {\n",
       "        vertical-align: top;\n",
       "    }\n",
       "\n",
       "    .dataframe thead th {\n",
       "        text-align: right;\n",
       "    }\n",
       "</style>\n",
       "<table border=\"1\" class=\"dataframe\">\n",
       "  <thead>\n",
       "    <tr style=\"text-align: right;\">\n",
       "      <th></th>\n",
       "      <th>Desc</th>\n",
       "      <th>2011</th>\n",
       "      <th>2012</th>\n",
       "      <th>2013</th>\n",
       "      <th>2014</th>\n",
       "      <th>2015</th>\n",
       "      <th>2016</th>\n",
       "      <th>2017</th>\n",
       "      <th>2018</th>\n",
       "      <th>Growth ratio</th>\n",
       "    </tr>\n",
       "  </thead>\n",
       "  <tbody>\n",
       "    <tr>\n",
       "      <th>0</th>\n",
       "      <td>Aantal (x 1000)</td>\n",
       "      <td>1198</td>\n",
       "      <td>1035</td>\n",
       "      <td>1008</td>\n",
       "      <td>1051</td>\n",
       "      <td>983</td>\n",
       "      <td>928</td>\n",
       "      <td>957</td>\n",
       "      <td>1011</td>\n",
       "      <td>0.06</td>\n",
       "    </tr>\n",
       "    <tr>\n",
       "      <th>1</th>\n",
       "      <td>Waarde (x € 1000)</td>\n",
       "      <td>879240</td>\n",
       "      <td>769159</td>\n",
       "      <td>797264</td>\n",
       "      <td>886605</td>\n",
       "      <td>899020</td>\n",
       "      <td>936829</td>\n",
       "      <td>976034</td>\n",
       "      <td>1220291</td>\n",
       "      <td>0.25</td>\n",
       "    </tr>\n",
       "  </tbody>\n",
       "</table>\n",
       "</div>"
      ],
      "text/plain": [
       "                Desc    2011    2012    2013    2014    2015    2016    2017  \\\n",
       "0    Aantal (x 1000)    1198    1035    1008    1051     983     928     957   \n",
       "1  Waarde (x € 1000)  879240  769159  797264  886605  899020  936829  976034   \n",
       "\n",
       "      2018  Growth ratio  \n",
       "0     1011          0.06  \n",
       "1  1220291          0.25  "
      ]
     },
     "execution_count": 2,
     "metadata": {},
     "output_type": "execute_result"
    }
   ],
   "source": [
    "orig_url = 'https://drive.google.com/file/d/1uXK-rG07T1njpXvTNxNZcmJrVJQmfeRc/view?usp=sharing'\n",
    "file_id = orig_url.split('/')[-2]\n",
    "dwn_url = 'https://drive.google.com/uc?export=download&id=' + file_id\n",
    "\n",
    "purchased = pd.read_excel(dwn_url, skiprows=1, names=['Desc', '2011', '2012', '2013', '2014', '2015', '2016', '2017', '2018',\n",
    "                                                      'Growth ratio'])\n",
    "purchased"
   ]
  },
  {
   "cell_type": "code",
   "execution_count": 3,
   "metadata": {},
   "outputs": [
    {
     "name": "stdout",
     "output_type": "stream",
     "text": [
      "                Desc    2011    2012    2013    2014    2015    2016    2017  \\\n",
      "0    Aantal (x 1000)    1198    1035    1008    1051     983     928     957   \n",
      "1  Waarde (x € 1000)  879240  769159  797264  886605  899020  936829  976034   \n",
      "\n",
      "      2018  Growth ratio  \n",
      "0     1011          0.06  \n",
      "1  1220291          0.25  \n",
      "(2, 10)\n"
     ]
    }
   ],
   "source": [
    "#Overview\n",
    "print(purchased.head())\n",
    "print(purchased.shape)\n",
    "# purchased.columns() # It looks like there is no such method for data frames."
   ]
  },
  {
   "cell_type": "code",
   "execution_count": 4,
   "metadata": {},
   "outputs": [
    {
     "data": {
      "text/plain": [
       "Desc             object\n",
       "2011              int64\n",
       "2012              int64\n",
       "2013              int64\n",
       "2014              int64\n",
       "2015              int64\n",
       "2016              int64\n",
       "2017              int64\n",
       "2018              int64\n",
       "Growth ratio    float64\n",
       "dtype: object"
      ]
     },
     "execution_count": 4,
     "metadata": {},
     "output_type": "execute_result"
    }
   ],
   "source": [
    "#Checking the types\n",
    "purchased.dtypes"
   ]
  },
  {
   "cell_type": "code",
   "execution_count": 5,
   "metadata": {},
   "outputs": [],
   "source": [
    "#Adding the missing column. To be able to extrapolate the missing values later\n",
    "purchased['2019']=\"\""
   ]
  },
  {
   "cell_type": "code",
   "execution_count": 6,
   "metadata": {
    "scrolled": true
   },
   "outputs": [
    {
     "data": {
      "text/html": [
       "<div>\n",
       "<style scoped>\n",
       "    .dataframe tbody tr th:only-of-type {\n",
       "        vertical-align: middle;\n",
       "    }\n",
       "\n",
       "    .dataframe tbody tr th {\n",
       "        vertical-align: top;\n",
       "    }\n",
       "\n",
       "    .dataframe thead th {\n",
       "        text-align: right;\n",
       "    }\n",
       "</style>\n",
       "<table border=\"1\" class=\"dataframe\">\n",
       "  <thead>\n",
       "    <tr style=\"text-align: right;\">\n",
       "      <th></th>\n",
       "      <th>Desc</th>\n",
       "      <th>2011</th>\n",
       "      <th>2012</th>\n",
       "      <th>2013</th>\n",
       "      <th>2014</th>\n",
       "      <th>2015</th>\n",
       "      <th>2016</th>\n",
       "      <th>2017</th>\n",
       "      <th>2018</th>\n",
       "      <th>Growth ratio</th>\n",
       "      <th>2019</th>\n",
       "    </tr>\n",
       "  </thead>\n",
       "  <tbody>\n",
       "    <tr>\n",
       "      <th>0</th>\n",
       "      <td>Aantal (x 1000)</td>\n",
       "      <td>1198</td>\n",
       "      <td>1035</td>\n",
       "      <td>1008</td>\n",
       "      <td>1051</td>\n",
       "      <td>983</td>\n",
       "      <td>928</td>\n",
       "      <td>957</td>\n",
       "      <td>1011</td>\n",
       "      <td>0.06</td>\n",
       "      <td>1072</td>\n",
       "    </tr>\n",
       "    <tr>\n",
       "      <th>1</th>\n",
       "      <td>Waarde (x € 1000)</td>\n",
       "      <td>879240</td>\n",
       "      <td>769159</td>\n",
       "      <td>797264</td>\n",
       "      <td>886605</td>\n",
       "      <td>899020</td>\n",
       "      <td>936829</td>\n",
       "      <td>976034</td>\n",
       "      <td>1220291</td>\n",
       "      <td>0.25</td>\n",
       "      <td>1525364</td>\n",
       "    </tr>\n",
       "  </tbody>\n",
       "</table>\n",
       "</div>"
      ],
      "text/plain": [
       "                Desc    2011    2012    2013    2014    2015    2016    2017  \\\n",
       "0    Aantal (x 1000)    1198    1035    1008    1051     983     928     957   \n",
       "1  Waarde (x € 1000)  879240  769159  797264  886605  899020  936829  976034   \n",
       "\n",
       "      2018  Growth ratio     2019  \n",
       "0     1011          0.06     1072  \n",
       "1  1220291          0.25  1525364  "
      ]
     },
     "execution_count": 6,
     "metadata": {},
     "output_type": "execute_result"
    }
   ],
   "source": [
    "# Calculating 2019 quantity based on growth ratio\n",
    "purchased['2019'] = round(purchased['2018']*(1+purchased['Growth ratio']), 0).astype(int)\n",
    "purchased"
   ]
  },
  {
   "cell_type": "code",
   "execution_count": 7,
   "metadata": {},
   "outputs": [],
   "source": [
    "#Taking out the columns and the row that we won't be needing\n",
    "total_purchased = purchased.drop(['2011', '2012', '2013', '2014', '2015', 'Growth ratio'],axis=1)\n",
    "total_purchased = total_purchased.loc[total_purchased['Desc'] == 'Aantal (x 1000)']"
   ]
  },
  {
   "cell_type": "code",
   "execution_count": 8,
   "metadata": {},
   "outputs": [],
   "source": [
    "total_purchased['Desc'] = 'Purchased bikes NL'"
   ]
  },
  {
   "cell_type": "code",
   "execution_count": 9,
   "metadata": {},
   "outputs": [
    {
     "data": {
      "text/html": [
       "<div>\n",
       "<style scoped>\n",
       "    .dataframe tbody tr th:only-of-type {\n",
       "        vertical-align: middle;\n",
       "    }\n",
       "\n",
       "    .dataframe tbody tr th {\n",
       "        vertical-align: top;\n",
       "    }\n",
       "\n",
       "    .dataframe thead th {\n",
       "        text-align: right;\n",
       "    }\n",
       "</style>\n",
       "<table border=\"1\" class=\"dataframe\">\n",
       "  <thead>\n",
       "    <tr style=\"text-align: right;\">\n",
       "      <th></th>\n",
       "      <th>Desc</th>\n",
       "      <th>2016</th>\n",
       "      <th>2017</th>\n",
       "      <th>2018</th>\n",
       "      <th>2019</th>\n",
       "    </tr>\n",
       "  </thead>\n",
       "  <tbody>\n",
       "    <tr>\n",
       "      <th>0</th>\n",
       "      <td>Purchased bikes NL</td>\n",
       "      <td>928</td>\n",
       "      <td>957</td>\n",
       "      <td>1011</td>\n",
       "      <td>1072</td>\n",
       "    </tr>\n",
       "  </tbody>\n",
       "</table>\n",
       "</div>"
      ],
      "text/plain": [
       "                 Desc  2016  2017  2018  2019\n",
       "0  Purchased bikes NL   928   957  1011  1072"
      ]
     },
     "execution_count": 9,
     "metadata": {},
     "output_type": "execute_result"
    }
   ],
   "source": [
    "total_purchased"
   ]
  },
  {
   "cell_type": "code",
   "execution_count": 10,
   "metadata": {},
   "outputs": [],
   "source": [
    "#Displaying the correct unit to the Total_purchased df\n",
    "total_purchased = total_purchased[['2016', '2017', '2018', '2019']].apply(lambda x: x*1000)\n",
    "total_purchased.insert(0, 'Desc', 'Purchased bikes NL')\n"
   ]
  },
  {
   "cell_type": "code",
   "execution_count": 11,
   "metadata": {},
   "outputs": [
    {
     "data": {
      "text/html": [
       "<div>\n",
       "<style scoped>\n",
       "    .dataframe tbody tr th:only-of-type {\n",
       "        vertical-align: middle;\n",
       "    }\n",
       "\n",
       "    .dataframe tbody tr th {\n",
       "        vertical-align: top;\n",
       "    }\n",
       "\n",
       "    .dataframe thead th {\n",
       "        text-align: right;\n",
       "    }\n",
       "</style>\n",
       "<table border=\"1\" class=\"dataframe\">\n",
       "  <thead>\n",
       "    <tr style=\"text-align: right;\">\n",
       "      <th></th>\n",
       "      <th>Desc</th>\n",
       "      <th>2016</th>\n",
       "      <th>2017</th>\n",
       "      <th>2018</th>\n",
       "      <th>2019</th>\n",
       "    </tr>\n",
       "  </thead>\n",
       "  <tbody>\n",
       "    <tr>\n",
       "      <th>0</th>\n",
       "      <td>Purchased bikes NL</td>\n",
       "      <td>928000</td>\n",
       "      <td>957000</td>\n",
       "      <td>1011000</td>\n",
       "      <td>1072000</td>\n",
       "    </tr>\n",
       "  </tbody>\n",
       "</table>\n",
       "</div>"
      ],
      "text/plain": [
       "                 Desc    2016    2017     2018     2019\n",
       "0  Purchased bikes NL  928000  957000  1011000  1072000"
      ]
     },
     "execution_count": 11,
     "metadata": {},
     "output_type": "execute_result"
    }
   ],
   "source": [
    "total_purchased "
   ]
  },
  {
   "cell_type": "code",
   "execution_count": 12,
   "metadata": {},
   "outputs": [],
   "source": [
    "# #THIS IS A TABLE I MADE WITH CALCULATIONS, but the tale was done elsewhere\n",
    "\n",
    "# # Importing a separate table to be added to the already inserted 'purchase' one:\n",
    "# url_1 = 'https://drive.google.com/file/d/1y1nWsBv4RHFIGLqAcgH84Iqq1a2rEWW-/view?usp=sharing'\n",
    "# file_id = url_1.split('/')[-2]\n",
    "# url = 'https://drive.google.com/uc?export=download&id=' + file_id\n",
    "# purchased_ams = pd.read_excel(url, skiprows=1, nrows=6, names=['Desc', '2014', '2015', '2016','2017','2018','2019','tbd'])\n",
    "# purchased_ams \n",
    "# # dropping unnecessary columns and rows:\n",
    "# purchased_ams = purchased_ams.drop(['2014','2015','tbd'], axis =1)\n",
    "# purchased_ams = purchased_ams.drop([0,2,3], axis =0)\n",
    "# purchased_ams\n",
    "#changing name in row to meaningful name\n",
    "# purchased_ams['Desc'][1]='Purchased bikes AMS'\n",
    "# purchased_ams"
   ]
  },
  {
   "cell_type": "code",
   "execution_count": 13,
   "metadata": {},
   "outputs": [
    {
     "data": {
      "text/html": [
       "<div>\n",
       "<style scoped>\n",
       "    .dataframe tbody tr th:only-of-type {\n",
       "        vertical-align: middle;\n",
       "    }\n",
       "\n",
       "    .dataframe tbody tr th {\n",
       "        vertical-align: top;\n",
       "    }\n",
       "\n",
       "    .dataframe thead th {\n",
       "        text-align: right;\n",
       "    }\n",
       "</style>\n",
       "<table border=\"1\" class=\"dataframe\">\n",
       "  <thead>\n",
       "    <tr style=\"text-align: right;\">\n",
       "      <th></th>\n",
       "      <th>Desc</th>\n",
       "      <th>2016</th>\n",
       "      <th>2017</th>\n",
       "      <th>2018</th>\n",
       "      <th>2019</th>\n",
       "    </tr>\n",
       "  </thead>\n",
       "  <tbody>\n",
       "    <tr>\n",
       "      <th>0</th>\n",
       "      <td>PopAMS</td>\n",
       "      <td>821424</td>\n",
       "      <td>830788</td>\n",
       "      <td>839459</td>\n",
       "      <td>848852</td>\n",
       "    </tr>\n",
       "  </tbody>\n",
       "</table>\n",
       "</div>"
      ],
      "text/plain": [
       "     Desc    2016    2017    2018    2019\n",
       "0  PopAMS  821424  830788  839459  848852"
      ]
     },
     "execution_count": 13,
     "metadata": {},
     "output_type": "execute_result"
    }
   ],
   "source": [
    "# We will create 3 dataframes, 1 where the calculations will be done, 2 with same avg amounts\n",
    "\n",
    "#For the starting data I will add the poputaion AMs per year found in the final table in 'Population\"'\n",
    "pop_Ams = [{ 'Desc':'PopAMS','2016':821424,'2017':830788,'2018': 839459, '2019':848852}]\n",
    "Pop_ams = pd.DataFrame(pop_Ams)\n",
    "Pop_ams\n",
    "\n"
   ]
  },
  {
   "cell_type": "code",
   "execution_count": 14,
   "metadata": {},
   "outputs": [
    {
     "data": {
      "text/html": [
       "<div>\n",
       "<style scoped>\n",
       "    .dataframe tbody tr th:only-of-type {\n",
       "        vertical-align: middle;\n",
       "    }\n",
       "\n",
       "    .dataframe tbody tr th {\n",
       "        vertical-align: top;\n",
       "    }\n",
       "\n",
       "    .dataframe thead th {\n",
       "        text-align: right;\n",
       "    }\n",
       "</style>\n",
       "<table border=\"1\" class=\"dataframe\">\n",
       "  <thead>\n",
       "    <tr style=\"text-align: right;\">\n",
       "      <th></th>\n",
       "      <th>Desc</th>\n",
       "      <th>2016</th>\n",
       "      <th>2017</th>\n",
       "      <th>2018</th>\n",
       "      <th>2019</th>\n",
       "    </tr>\n",
       "  </thead>\n",
       "  <tbody>\n",
       "    <tr>\n",
       "      <th>0</th>\n",
       "      <td>PopNL</td>\n",
       "      <td>16931687</td>\n",
       "      <td>17031264</td>\n",
       "      <td>17132933</td>\n",
       "      <td>17258355</td>\n",
       "    </tr>\n",
       "  </tbody>\n",
       "</table>\n",
       "</div>"
      ],
      "text/plain": [
       "    Desc      2016      2017      2018      2019\n",
       "0  PopNL  16931687  17031264  17132933  17258355"
      ]
     },
     "execution_count": 14,
     "metadata": {},
     "output_type": "execute_result"
    }
   ],
   "source": [
    "pop_Nl = [{'Desc':'PopNL','2016':16931687,'2017':17031264,'2018': 17132933, '2019':17258355}]\n",
    "Pop_nl = pd.DataFrame(pop_Nl)\n",
    "\n",
    "Pop_nl"
   ]
  },
  {
   "cell_type": "code",
   "execution_count": 15,
   "metadata": {},
   "outputs": [
    {
     "data": {
      "text/html": [
       "<div>\n",
       "<style scoped>\n",
       "    .dataframe tbody tr th:only-of-type {\n",
       "        vertical-align: middle;\n",
       "    }\n",
       "\n",
       "    .dataframe tbody tr th {\n",
       "        vertical-align: top;\n",
       "    }\n",
       "\n",
       "    .dataframe thead th {\n",
       "        text-align: right;\n",
       "    }\n",
       "</style>\n",
       "<table border=\"1\" class=\"dataframe\">\n",
       "  <thead>\n",
       "    <tr style=\"text-align: right;\">\n",
       "      <th></th>\n",
       "      <th>2016</th>\n",
       "      <th>2017</th>\n",
       "      <th>2018</th>\n",
       "      <th>2019</th>\n",
       "    </tr>\n",
       "  </thead>\n",
       "  <tbody>\n",
       "    <tr>\n",
       "      <th>0</th>\n",
       "      <td>45020.999502</td>\n",
       "      <td>46682.625318</td>\n",
       "      <td>49535.771196</td>\n",
       "      <td>52726.308156</td>\n",
       "    </tr>\n",
       "  </tbody>\n",
       "</table>\n",
       "</div>"
      ],
      "text/plain": [
       "           2016          2017          2018          2019\n",
       "0  45020.999502  46682.625318  49535.771196  52726.308156"
      ]
     },
     "execution_count": 15,
     "metadata": {},
     "output_type": "execute_result"
    }
   ],
   "source": [
    "# For the calculation I will do :(purchased per year/population NL)*Population AMS\n",
    "\n",
    "Purchased_ams_total = (total_purchased._get_numeric_data() / Pop_nl._get_numeric_data())* Pop_ams._get_numeric_data()\n",
    "Purchased_ams_total\n"
   ]
  },
  {
   "cell_type": "code",
   "execution_count": 16,
   "metadata": {},
   "outputs": [],
   "source": [
    "Purchased_ams_total['Desc'] = 'Purchased bikes AMS'"
   ]
  },
  {
   "cell_type": "code",
   "execution_count": 17,
   "metadata": {},
   "outputs": [],
   "source": [
    "column_order = ['Desc','2016','2017','2018','2019']\n",
    "Purchased_ams_total = Purchased_ams_total[column_order ]"
   ]
  },
  {
   "cell_type": "code",
   "execution_count": 18,
   "metadata": {},
   "outputs": [
    {
     "data": {
      "text/html": [
       "<div>\n",
       "<style scoped>\n",
       "    .dataframe tbody tr th:only-of-type {\n",
       "        vertical-align: middle;\n",
       "    }\n",
       "\n",
       "    .dataframe tbody tr th {\n",
       "        vertical-align: top;\n",
       "    }\n",
       "\n",
       "    .dataframe thead th {\n",
       "        text-align: right;\n",
       "    }\n",
       "</style>\n",
       "<table border=\"1\" class=\"dataframe\">\n",
       "  <thead>\n",
       "    <tr style=\"text-align: right;\">\n",
       "      <th></th>\n",
       "      <th>Desc</th>\n",
       "      <th>2016</th>\n",
       "      <th>2017</th>\n",
       "      <th>2018</th>\n",
       "      <th>2019</th>\n",
       "    </tr>\n",
       "  </thead>\n",
       "  <tbody>\n",
       "    <tr>\n",
       "      <th>0</th>\n",
       "      <td>Purchased bikes AMS</td>\n",
       "      <td>45020.999502</td>\n",
       "      <td>46682.625318</td>\n",
       "      <td>49535.771196</td>\n",
       "      <td>52726.308156</td>\n",
       "    </tr>\n",
       "  </tbody>\n",
       "</table>\n",
       "</div>"
      ],
      "text/plain": [
       "                  Desc          2016          2017          2018          2019\n",
       "0  Purchased bikes AMS  45020.999502  46682.625318  49535.771196  52726.308156"
      ]
     },
     "execution_count": 18,
     "metadata": {},
     "output_type": "execute_result"
    }
   ],
   "source": [
    "Purchased_ams_total"
   ]
  },
  {
   "cell_type": "code",
   "execution_count": 19,
   "metadata": {},
   "outputs": [
    {
     "data": {
      "text/html": [
       "<div>\n",
       "<style scoped>\n",
       "    .dataframe tbody tr th:only-of-type {\n",
       "        vertical-align: middle;\n",
       "    }\n",
       "\n",
       "    .dataframe tbody tr th {\n",
       "        vertical-align: top;\n",
       "    }\n",
       "\n",
       "    .dataframe thead th {\n",
       "        text-align: right;\n",
       "    }\n",
       "</style>\n",
       "<table border=\"1\" class=\"dataframe\">\n",
       "  <thead>\n",
       "    <tr style=\"text-align: right;\">\n",
       "      <th></th>\n",
       "      <th>Desc</th>\n",
       "      <th>2016</th>\n",
       "      <th>2017</th>\n",
       "      <th>2018</th>\n",
       "      <th>2019</th>\n",
       "    </tr>\n",
       "  </thead>\n",
       "  <tbody>\n",
       "    <tr>\n",
       "      <th>0</th>\n",
       "      <td>Fetched bikes AMS</td>\n",
       "      <td>6000</td>\n",
       "      <td>6000</td>\n",
       "      <td>6000</td>\n",
       "      <td>6000</td>\n",
       "    </tr>\n",
       "  </tbody>\n",
       "</table>\n",
       "</div>"
      ],
      "text/plain": [
       "                Desc  2016  2017  2018  2019\n",
       "0  Fetched bikes AMS  6000  6000  6000  6000"
      ]
     },
     "execution_count": 19,
     "metadata": {},
     "output_type": "execute_result"
    }
   ],
   "source": [
    "F_AMS = [{ 'Desc':'Fetched bikes AMS','2016':6000,'2017':6000,'2018': 6000, '2019':6000}]\n",
    "fetched_Ams = pd.DataFrame(F_AMS)\n",
    "fetched_Ams"
   ]
  },
  {
   "cell_type": "code",
   "execution_count": 20,
   "metadata": {},
   "outputs": [
    {
     "data": {
      "text/html": [
       "<div>\n",
       "<style scoped>\n",
       "    .dataframe tbody tr th:only-of-type {\n",
       "        vertical-align: middle;\n",
       "    }\n",
       "\n",
       "    .dataframe tbody tr th {\n",
       "        vertical-align: top;\n",
       "    }\n",
       "\n",
       "    .dataframe thead th {\n",
       "        text-align: right;\n",
       "    }\n",
       "</style>\n",
       "<table border=\"1\" class=\"dataframe\">\n",
       "  <thead>\n",
       "    <tr style=\"text-align: right;\">\n",
       "      <th></th>\n",
       "      <th>Desc</th>\n",
       "      <th>2016</th>\n",
       "      <th>2017</th>\n",
       "      <th>2018</th>\n",
       "      <th>2019</th>\n",
       "    </tr>\n",
       "  </thead>\n",
       "  <tbody>\n",
       "    <tr>\n",
       "      <th>0</th>\n",
       "      <td>Fetched bikes NL</td>\n",
       "      <td>15000</td>\n",
       "      <td>15000</td>\n",
       "      <td>15000</td>\n",
       "      <td>15000</td>\n",
       "    </tr>\n",
       "  </tbody>\n",
       "</table>\n",
       "</div>"
      ],
      "text/plain": [
       "               Desc   2016   2017   2018   2019\n",
       "0  Fetched bikes NL  15000  15000  15000  15000"
      ]
     },
     "execution_count": 20,
     "metadata": {},
     "output_type": "execute_result"
    }
   ],
   "source": [
    "F_NL = [{ 'Desc':'Fetched bikes NL','2016':15000,'2017':15000,'2018': 15000, '2019':15000}]\n",
    "fetched_NL = pd.DataFrame(F_NL)\n",
    "fetched_NL"
   ]
  },
  {
   "cell_type": "code",
   "execution_count": 21,
   "metadata": {},
   "outputs": [],
   "source": [
    "#concatenating the tables\n",
    "frames = [total_purchased,Purchased_ams_total,fetched_Ams,fetched_NL]\n",
    "total_purchased = pd.concat(frames)"
   ]
  },
  {
   "cell_type": "code",
   "execution_count": 22,
   "metadata": {},
   "outputs": [
    {
     "data": {
      "text/html": [
       "<div>\n",
       "<style scoped>\n",
       "    .dataframe tbody tr th:only-of-type {\n",
       "        vertical-align: middle;\n",
       "    }\n",
       "\n",
       "    .dataframe tbody tr th {\n",
       "        vertical-align: top;\n",
       "    }\n",
       "\n",
       "    .dataframe thead th {\n",
       "        text-align: right;\n",
       "    }\n",
       "</style>\n",
       "<table border=\"1\" class=\"dataframe\">\n",
       "  <thead>\n",
       "    <tr style=\"text-align: right;\">\n",
       "      <th></th>\n",
       "      <th>Desc</th>\n",
       "      <th>2016</th>\n",
       "      <th>2017</th>\n",
       "      <th>2018</th>\n",
       "      <th>2019</th>\n",
       "    </tr>\n",
       "  </thead>\n",
       "  <tbody>\n",
       "    <tr>\n",
       "      <th>0</th>\n",
       "      <td>Purchased bikes NL</td>\n",
       "      <td>928000.000000</td>\n",
       "      <td>957000.000000</td>\n",
       "      <td>1.011000e+06</td>\n",
       "      <td>1.072000e+06</td>\n",
       "    </tr>\n",
       "    <tr>\n",
       "      <th>0</th>\n",
       "      <td>Purchased bikes AMS</td>\n",
       "      <td>45020.999502</td>\n",
       "      <td>46682.625318</td>\n",
       "      <td>4.953577e+04</td>\n",
       "      <td>5.272631e+04</td>\n",
       "    </tr>\n",
       "    <tr>\n",
       "      <th>0</th>\n",
       "      <td>Fetched bikes AMS</td>\n",
       "      <td>6000.000000</td>\n",
       "      <td>6000.000000</td>\n",
       "      <td>6.000000e+03</td>\n",
       "      <td>6.000000e+03</td>\n",
       "    </tr>\n",
       "    <tr>\n",
       "      <th>0</th>\n",
       "      <td>Fetched bikes NL</td>\n",
       "      <td>15000.000000</td>\n",
       "      <td>15000.000000</td>\n",
       "      <td>1.500000e+04</td>\n",
       "      <td>1.500000e+04</td>\n",
       "    </tr>\n",
       "  </tbody>\n",
       "</table>\n",
       "</div>"
      ],
      "text/plain": [
       "                  Desc           2016           2017          2018  \\\n",
       "0   Purchased bikes NL  928000.000000  957000.000000  1.011000e+06   \n",
       "0  Purchased bikes AMS   45020.999502   46682.625318  4.953577e+04   \n",
       "0    Fetched bikes AMS    6000.000000    6000.000000  6.000000e+03   \n",
       "0     Fetched bikes NL   15000.000000   15000.000000  1.500000e+04   \n",
       "\n",
       "           2019  \n",
       "0  1.072000e+06  \n",
       "0  5.272631e+04  \n",
       "0  6.000000e+03  \n",
       "0  1.500000e+04  "
      ]
     },
     "execution_count": 22,
     "metadata": {},
     "output_type": "execute_result"
    }
   ],
   "source": [
    "total_purchased"
   ]
  },
  {
   "cell_type": "code",
   "execution_count": 23,
   "metadata": {},
   "outputs": [],
   "source": [
    "## Displaying correct unit in row 2:\n",
    "\n",
    "# First I transpose the table, not to affect the rest of rows\n",
    "# total_purchased.transpose()\n",
    "# #Applying the formula for the concerned column\n",
    "# total_purchased.iloc[1] = total_purchased.iloc[1].apply(lambda x: x*1000)\n",
    "\n",
    "##Note: This actually affected the Desc. at index 1\n",
    "\n",
    "# total_purchased\n",
    "#Renaming Description at row index 1\n",
    "# total_purchased['Desc'][1] = 'Purchased bikes AMS'\n",
    "# total_purchased['']\n",
    "\n"
   ]
  },
  {
   "cell_type": "code",
   "execution_count": 24,
   "metadata": {},
   "outputs": [],
   "source": [
    "# The data type is to be changed (for diplaying reasons)\n",
    "\n",
    "convert_dict = {'Desc': object,\n",
    "                '2016': int, \n",
    "                '2017': int,\n",
    "                '2018': int,\n",
    "                '2019': int,\n",
    "               } \n",
    "  \n",
    "total_purchased = total_purchased.astype(convert_dict) "
   ]
  },
  {
   "cell_type": "code",
   "execution_count": 25,
   "metadata": {},
   "outputs": [
    {
     "data": {
      "text/html": [
       "<div>\n",
       "<style scoped>\n",
       "    .dataframe tbody tr th:only-of-type {\n",
       "        vertical-align: middle;\n",
       "    }\n",
       "\n",
       "    .dataframe tbody tr th {\n",
       "        vertical-align: top;\n",
       "    }\n",
       "\n",
       "    .dataframe thead th {\n",
       "        text-align: right;\n",
       "    }\n",
       "</style>\n",
       "<table border=\"1\" class=\"dataframe\">\n",
       "  <thead>\n",
       "    <tr style=\"text-align: right;\">\n",
       "      <th></th>\n",
       "      <th>Desc</th>\n",
       "      <th>2016</th>\n",
       "      <th>2017</th>\n",
       "      <th>2018</th>\n",
       "      <th>2019</th>\n",
       "    </tr>\n",
       "  </thead>\n",
       "  <tbody>\n",
       "    <tr>\n",
       "      <th>0</th>\n",
       "      <td>Purchased bikes NL</td>\n",
       "      <td>928000</td>\n",
       "      <td>957000</td>\n",
       "      <td>1011000</td>\n",
       "      <td>1072000</td>\n",
       "    </tr>\n",
       "    <tr>\n",
       "      <th>0</th>\n",
       "      <td>Purchased bikes AMS</td>\n",
       "      <td>45020</td>\n",
       "      <td>46682</td>\n",
       "      <td>49535</td>\n",
       "      <td>52726</td>\n",
       "    </tr>\n",
       "    <tr>\n",
       "      <th>0</th>\n",
       "      <td>Fetched bikes AMS</td>\n",
       "      <td>6000</td>\n",
       "      <td>6000</td>\n",
       "      <td>6000</td>\n",
       "      <td>6000</td>\n",
       "    </tr>\n",
       "    <tr>\n",
       "      <th>0</th>\n",
       "      <td>Fetched bikes NL</td>\n",
       "      <td>15000</td>\n",
       "      <td>15000</td>\n",
       "      <td>15000</td>\n",
       "      <td>15000</td>\n",
       "    </tr>\n",
       "  </tbody>\n",
       "</table>\n",
       "</div>"
      ],
      "text/plain": [
       "                  Desc    2016    2017     2018     2019\n",
       "0   Purchased bikes NL  928000  957000  1011000  1072000\n",
       "0  Purchased bikes AMS   45020   46682    49535    52726\n",
       "0    Fetched bikes AMS    6000    6000     6000     6000\n",
       "0     Fetched bikes NL   15000   15000    15000    15000"
      ]
     },
     "execution_count": 25,
     "metadata": {},
     "output_type": "execute_result"
    }
   ],
   "source": [
    "total_purchased"
   ]
  },
  {
   "cell_type": "code",
   "execution_count": 26,
   "metadata": {},
   "outputs": [],
   "source": [
    "# total_purchased = total_purchased.transpose()\n",
    "# total_purchased"
   ]
  },
  {
   "cell_type": "code",
   "execution_count": 27,
   "metadata": {},
   "outputs": [],
   "source": [
    "# Set the 1st column as index (easier when transposing for calculation)\n",
    "total_purchased = total_purchased.set_index('Desc')"
   ]
  },
  {
   "cell_type": "code",
   "execution_count": 28,
   "metadata": {},
   "outputs": [],
   "source": [
    "total_purchased = total_purchased.transpose()"
   ]
  },
  {
   "cell_type": "code",
   "execution_count": 29,
   "metadata": {},
   "outputs": [
    {
     "data": {
      "text/html": [
       "<div>\n",
       "<style scoped>\n",
       "    .dataframe tbody tr th:only-of-type {\n",
       "        vertical-align: middle;\n",
       "    }\n",
       "\n",
       "    .dataframe tbody tr th {\n",
       "        vertical-align: top;\n",
       "    }\n",
       "\n",
       "    .dataframe thead th {\n",
       "        text-align: right;\n",
       "    }\n",
       "</style>\n",
       "<table border=\"1\" class=\"dataframe\">\n",
       "  <thead>\n",
       "    <tr style=\"text-align: right;\">\n",
       "      <th>Desc</th>\n",
       "      <th>Purchased bikes NL</th>\n",
       "      <th>Purchased bikes AMS</th>\n",
       "      <th>Fetched bikes AMS</th>\n",
       "      <th>Fetched bikes NL</th>\n",
       "    </tr>\n",
       "  </thead>\n",
       "  <tbody>\n",
       "    <tr>\n",
       "      <th>2016</th>\n",
       "      <td>928000</td>\n",
       "      <td>45020</td>\n",
       "      <td>6000</td>\n",
       "      <td>15000</td>\n",
       "    </tr>\n",
       "    <tr>\n",
       "      <th>2017</th>\n",
       "      <td>957000</td>\n",
       "      <td>46682</td>\n",
       "      <td>6000</td>\n",
       "      <td>15000</td>\n",
       "    </tr>\n",
       "    <tr>\n",
       "      <th>2018</th>\n",
       "      <td>1011000</td>\n",
       "      <td>49535</td>\n",
       "      <td>6000</td>\n",
       "      <td>15000</td>\n",
       "    </tr>\n",
       "    <tr>\n",
       "      <th>2019</th>\n",
       "      <td>1072000</td>\n",
       "      <td>52726</td>\n",
       "      <td>6000</td>\n",
       "      <td>15000</td>\n",
       "    </tr>\n",
       "  </tbody>\n",
       "</table>\n",
       "</div>"
      ],
      "text/plain": [
       "Desc  Purchased bikes NL  Purchased bikes AMS  Fetched bikes AMS  \\\n",
       "2016              928000                45020               6000   \n",
       "2017              957000                46682               6000   \n",
       "2018             1011000                49535               6000   \n",
       "2019             1072000                52726               6000   \n",
       "\n",
       "Desc  Fetched bikes NL  \n",
       "2016             15000  \n",
       "2017             15000  \n",
       "2018             15000  \n",
       "2019             15000  "
      ]
     },
     "execution_count": 29,
     "metadata": {},
     "output_type": "execute_result"
    }
   ],
   "source": [
    "total_purchased"
   ]
  },
  {
   "cell_type": "code",
   "execution_count": 30,
   "metadata": {},
   "outputs": [
    {
     "data": {
      "text/html": [
       "<div>\n",
       "<style scoped>\n",
       "    .dataframe tbody tr th:only-of-type {\n",
       "        vertical-align: middle;\n",
       "    }\n",
       "\n",
       "    .dataframe tbody tr th {\n",
       "        vertical-align: top;\n",
       "    }\n",
       "\n",
       "    .dataframe thead th {\n",
       "        text-align: right;\n",
       "    }\n",
       "</style>\n",
       "<table border=\"1\" class=\"dataframe\">\n",
       "  <thead>\n",
       "    <tr style=\"text-align: right;\">\n",
       "      <th>Desc</th>\n",
       "      <th>Purchased bikes NL</th>\n",
       "      <th>Purchased bikes AMS</th>\n",
       "      <th>Fetched bikes AMS</th>\n",
       "      <th>Fetched bikes NL</th>\n",
       "      <th>Purchased - Fetched bikes AMS</th>\n",
       "    </tr>\n",
       "  </thead>\n",
       "  <tbody>\n",
       "    <tr>\n",
       "      <th>2016</th>\n",
       "      <td>928000</td>\n",
       "      <td>45020</td>\n",
       "      <td>6000</td>\n",
       "      <td>15000</td>\n",
       "      <td>39020</td>\n",
       "    </tr>\n",
       "    <tr>\n",
       "      <th>2017</th>\n",
       "      <td>957000</td>\n",
       "      <td>46682</td>\n",
       "      <td>6000</td>\n",
       "      <td>15000</td>\n",
       "      <td>40682</td>\n",
       "    </tr>\n",
       "    <tr>\n",
       "      <th>2018</th>\n",
       "      <td>1011000</td>\n",
       "      <td>49535</td>\n",
       "      <td>6000</td>\n",
       "      <td>15000</td>\n",
       "      <td>43535</td>\n",
       "    </tr>\n",
       "    <tr>\n",
       "      <th>2019</th>\n",
       "      <td>1072000</td>\n",
       "      <td>52726</td>\n",
       "      <td>6000</td>\n",
       "      <td>15000</td>\n",
       "      <td>46726</td>\n",
       "    </tr>\n",
       "  </tbody>\n",
       "</table>\n",
       "</div>"
      ],
      "text/plain": [
       "Desc  Purchased bikes NL  Purchased bikes AMS  Fetched bikes AMS  \\\n",
       "2016              928000                45020               6000   \n",
       "2017              957000                46682               6000   \n",
       "2018             1011000                49535               6000   \n",
       "2019             1072000                52726               6000   \n",
       "\n",
       "Desc  Fetched bikes NL  Purchased - Fetched bikes AMS  \n",
       "2016             15000                          39020  \n",
       "2017             15000                          40682  \n",
       "2018             15000                          43535  \n",
       "2019             15000                          46726  "
      ]
     },
     "execution_count": 30,
     "metadata": {},
     "output_type": "execute_result"
    }
   ],
   "source": [
    "total_purchased['Purchased - Fetched bikes AMS'] = total_purchased['Purchased bikes AMS']-total_purchased['Fetched bikes AMS']\n",
    "total_purchased"
   ]
  },
  {
   "cell_type": "code",
   "execution_count": 32,
   "metadata": {},
   "outputs": [
    {
     "data": {
      "text/html": [
       "<div>\n",
       "<style scoped>\n",
       "    .dataframe tbody tr th:only-of-type {\n",
       "        vertical-align: middle;\n",
       "    }\n",
       "\n",
       "    .dataframe tbody tr th {\n",
       "        vertical-align: top;\n",
       "    }\n",
       "\n",
       "    .dataframe thead th {\n",
       "        text-align: right;\n",
       "    }\n",
       "</style>\n",
       "<table border=\"1\" class=\"dataframe\">\n",
       "  <thead>\n",
       "    <tr style=\"text-align: right;\">\n",
       "      <th>Desc</th>\n",
       "      <th>Purchased bikes NL</th>\n",
       "      <th>Purchased bikes AMS</th>\n",
       "      <th>Fetched bikes AMS</th>\n",
       "      <th>Fetched bikes NL</th>\n",
       "      <th>Purchased - Fetched bikes AMS</th>\n",
       "      <th>Purchased - Fetched bikes NL</th>\n",
       "    </tr>\n",
       "  </thead>\n",
       "  <tbody>\n",
       "    <tr>\n",
       "      <th>2016</th>\n",
       "      <td>928000</td>\n",
       "      <td>45020</td>\n",
       "      <td>6000</td>\n",
       "      <td>15000</td>\n",
       "      <td>39020</td>\n",
       "      <td>913000</td>\n",
       "    </tr>\n",
       "    <tr>\n",
       "      <th>2017</th>\n",
       "      <td>957000</td>\n",
       "      <td>46682</td>\n",
       "      <td>6000</td>\n",
       "      <td>15000</td>\n",
       "      <td>40682</td>\n",
       "      <td>942000</td>\n",
       "    </tr>\n",
       "    <tr>\n",
       "      <th>2018</th>\n",
       "      <td>1011000</td>\n",
       "      <td>49535</td>\n",
       "      <td>6000</td>\n",
       "      <td>15000</td>\n",
       "      <td>43535</td>\n",
       "      <td>996000</td>\n",
       "    </tr>\n",
       "    <tr>\n",
       "      <th>2019</th>\n",
       "      <td>1072000</td>\n",
       "      <td>52726</td>\n",
       "      <td>6000</td>\n",
       "      <td>15000</td>\n",
       "      <td>46726</td>\n",
       "      <td>1057000</td>\n",
       "    </tr>\n",
       "  </tbody>\n",
       "</table>\n",
       "</div>"
      ],
      "text/plain": [
       "Desc  Purchased bikes NL  Purchased bikes AMS  Fetched bikes AMS  \\\n",
       "2016              928000                45020               6000   \n",
       "2017              957000                46682               6000   \n",
       "2018             1011000                49535               6000   \n",
       "2019             1072000                52726               6000   \n",
       "\n",
       "Desc  Fetched bikes NL  Purchased - Fetched bikes AMS  \\\n",
       "2016             15000                          39020   \n",
       "2017             15000                          40682   \n",
       "2018             15000                          43535   \n",
       "2019             15000                          46726   \n",
       "\n",
       "Desc  Purchased - Fetched bikes NL  \n",
       "2016                        913000  \n",
       "2017                        942000  \n",
       "2018                        996000  \n",
       "2019                       1057000  "
      ]
     },
     "execution_count": 32,
     "metadata": {},
     "output_type": "execute_result"
    }
   ],
   "source": [
    "total_purchased['Purchased - Fetched bikes NL'] = total_purchased['Purchased bikes NL']-total_purchased['Fetched bikes NL']\n",
    "total_purchased"
   ]
  },
  {
   "cell_type": "code",
   "execution_count": null,
   "metadata": {},
   "outputs": [],
   "source": [
    "# total_purchased['Total amount bikes AMS'] = \" \""
   ]
  },
  {
   "cell_type": "code",
   "execution_count": 33,
   "metadata": {},
   "outputs": [],
   "source": [
    "#Calculting the amount of Bikes for AMS and NL\n",
    "\n",
    "Amount_bikes =881000\n",
    "Bikes = list(total_purchased['Purchased bikes AMS'])\n",
    "Bikes = Bikes[::-1]\n",
    "# Bikes\n",
    "BikesAMS=[]\n",
    "for b in Bikes:\n",
    "    Amount_bikes = Amount_bikes-b\n",
    "    BikesAMS.append(Amount_bikes)\n",
    "    \n",
    "BikesAMS = BikesAMS[::-1]\n",
    "total_purchased['Total amount bikes AMS'] = BikesAMS"
   ]
  },
  {
   "cell_type": "code",
   "execution_count": 35,
   "metadata": {},
   "outputs": [],
   "source": [
    "Amount_bNL =23000000\n",
    "BikesN = list(total_purchased['Purchased bikes NL'])\n",
    "BikesN = BikesN[::-1]\n",
    "BikesNL=[]\n",
    "for b in BikesN:\n",
    "    Amount_bNL = Amount_bNL-b\n",
    "    BikesNL.append(Amount_bNL)\n",
    "    \n",
    "BikesNL = BikesNL[::-1]\n",
    "total_purchased['Total amount bikes NL'] = BikesNL"
   ]
  },
  {
   "cell_type": "code",
   "execution_count": 40,
   "metadata": {},
   "outputs": [
    {
     "ename": "KeyError",
     "evalue": "\"None of [Index(['Total amount bikes NL', 'Total amount bikes AMS', 'Purchased bikes NL',\\n       'Purchased bikes AMS', 'Fetched bikes NL', 'Fetched bikes AMS',\\n       'Purchased - Fetched bikes NL', 'Purchased - Fetched bikes AMS'],\\n      dtype='object')] are in the [columns]\"",
     "output_type": "error",
     "traceback": [
      "\u001b[0;31m---------------------------------------------------------------------------\u001b[0m",
      "\u001b[0;31mKeyError\u001b[0m                                  Traceback (most recent call last)",
      "\u001b[0;32m<ipython-input-40-189ab161f84d>\u001b[0m in \u001b[0;36m<module>\u001b[0;34m\u001b[0m\n\u001b[1;32m      1\u001b[0m \u001b[0mcolumn_order_p\u001b[0m \u001b[0;34m=\u001b[0m \u001b[0;34m[\u001b[0m\u001b[0;34m'Total amount bikes NL'\u001b[0m\u001b[0;34m,\u001b[0m\u001b[0;34m'Total amount bikes AMS'\u001b[0m\u001b[0;34m,\u001b[0m\u001b[0;34m'Purchased bikes NL'\u001b[0m\u001b[0;34m,\u001b[0m\u001b[0;34m'Purchased bikes AMS'\u001b[0m\u001b[0;34m,\u001b[0m\u001b[0;34m'Fetched bikes NL'\u001b[0m\u001b[0;34m,\u001b[0m\u001b[0;34m'Fetched bikes AMS'\u001b[0m\u001b[0;34m,\u001b[0m\u001b[0;34m'Purchased - Fetched bikes NL'\u001b[0m\u001b[0;34m,\u001b[0m\u001b[0;34m'Purchased - Fetched bikes AMS'\u001b[0m\u001b[0;34m]\u001b[0m\u001b[0;34m\u001b[0m\u001b[0;34m\u001b[0m\u001b[0m\n\u001b[0;32m----> 2\u001b[0;31m \u001b[0mtotal_purchased\u001b[0m \u001b[0;34m=\u001b[0m \u001b[0mtotal_purchased\u001b[0m\u001b[0;34m[\u001b[0m\u001b[0mcolumn_order_p\u001b[0m \u001b[0;34m]\u001b[0m\u001b[0;34m\u001b[0m\u001b[0;34m\u001b[0m\u001b[0m\n\u001b[0m",
      "\u001b[0;32m/usr/local/Cellar/jupyterlab/2.2.8/libexec/lib/python3.8/site-packages/pandas/core/frame.py\u001b[0m in \u001b[0;36m__getitem__\u001b[0;34m(self, key)\u001b[0m\n\u001b[1;32m   2906\u001b[0m             \u001b[0;32mif\u001b[0m \u001b[0mis_iterator\u001b[0m\u001b[0;34m(\u001b[0m\u001b[0mkey\u001b[0m\u001b[0;34m)\u001b[0m\u001b[0;34m:\u001b[0m\u001b[0;34m\u001b[0m\u001b[0;34m\u001b[0m\u001b[0m\n\u001b[1;32m   2907\u001b[0m                 \u001b[0mkey\u001b[0m \u001b[0;34m=\u001b[0m \u001b[0mlist\u001b[0m\u001b[0;34m(\u001b[0m\u001b[0mkey\u001b[0m\u001b[0;34m)\u001b[0m\u001b[0;34m\u001b[0m\u001b[0;34m\u001b[0m\u001b[0m\n\u001b[0;32m-> 2908\u001b[0;31m             \u001b[0mindexer\u001b[0m \u001b[0;34m=\u001b[0m \u001b[0mself\u001b[0m\u001b[0;34m.\u001b[0m\u001b[0mloc\u001b[0m\u001b[0;34m.\u001b[0m\u001b[0m_get_listlike_indexer\u001b[0m\u001b[0;34m(\u001b[0m\u001b[0mkey\u001b[0m\u001b[0;34m,\u001b[0m \u001b[0maxis\u001b[0m\u001b[0;34m=\u001b[0m\u001b[0;36m1\u001b[0m\u001b[0;34m,\u001b[0m \u001b[0mraise_missing\u001b[0m\u001b[0;34m=\u001b[0m\u001b[0;32mTrue\u001b[0m\u001b[0;34m)\u001b[0m\u001b[0;34m[\u001b[0m\u001b[0;36m1\u001b[0m\u001b[0;34m]\u001b[0m\u001b[0;34m\u001b[0m\u001b[0;34m\u001b[0m\u001b[0m\n\u001b[0m\u001b[1;32m   2909\u001b[0m \u001b[0;34m\u001b[0m\u001b[0m\n\u001b[1;32m   2910\u001b[0m         \u001b[0;31m# take() does not accept boolean indexers\u001b[0m\u001b[0;34m\u001b[0m\u001b[0;34m\u001b[0m\u001b[0;34m\u001b[0m\u001b[0m\n",
      "\u001b[0;32m/usr/local/Cellar/jupyterlab/2.2.8/libexec/lib/python3.8/site-packages/pandas/core/indexing.py\u001b[0m in \u001b[0;36m_get_listlike_indexer\u001b[0;34m(self, key, axis, raise_missing)\u001b[0m\n\u001b[1;32m   1252\u001b[0m             \u001b[0mkeyarr\u001b[0m\u001b[0;34m,\u001b[0m \u001b[0mindexer\u001b[0m\u001b[0;34m,\u001b[0m \u001b[0mnew_indexer\u001b[0m \u001b[0;34m=\u001b[0m \u001b[0max\u001b[0m\u001b[0;34m.\u001b[0m\u001b[0m_reindex_non_unique\u001b[0m\u001b[0;34m(\u001b[0m\u001b[0mkeyarr\u001b[0m\u001b[0;34m)\u001b[0m\u001b[0;34m\u001b[0m\u001b[0;34m\u001b[0m\u001b[0m\n\u001b[1;32m   1253\u001b[0m \u001b[0;34m\u001b[0m\u001b[0m\n\u001b[0;32m-> 1254\u001b[0;31m         \u001b[0mself\u001b[0m\u001b[0;34m.\u001b[0m\u001b[0m_validate_read_indexer\u001b[0m\u001b[0;34m(\u001b[0m\u001b[0mkeyarr\u001b[0m\u001b[0;34m,\u001b[0m \u001b[0mindexer\u001b[0m\u001b[0;34m,\u001b[0m \u001b[0maxis\u001b[0m\u001b[0;34m,\u001b[0m \u001b[0mraise_missing\u001b[0m\u001b[0;34m=\u001b[0m\u001b[0mraise_missing\u001b[0m\u001b[0;34m)\u001b[0m\u001b[0;34m\u001b[0m\u001b[0;34m\u001b[0m\u001b[0m\n\u001b[0m\u001b[1;32m   1255\u001b[0m         \u001b[0;32mreturn\u001b[0m \u001b[0mkeyarr\u001b[0m\u001b[0;34m,\u001b[0m \u001b[0mindexer\u001b[0m\u001b[0;34m\u001b[0m\u001b[0;34m\u001b[0m\u001b[0m\n\u001b[1;32m   1256\u001b[0m \u001b[0;34m\u001b[0m\u001b[0m\n",
      "\u001b[0;32m/usr/local/Cellar/jupyterlab/2.2.8/libexec/lib/python3.8/site-packages/pandas/core/indexing.py\u001b[0m in \u001b[0;36m_validate_read_indexer\u001b[0;34m(self, key, indexer, axis, raise_missing)\u001b[0m\n\u001b[1;32m   1296\u001b[0m             \u001b[0;32mif\u001b[0m \u001b[0mmissing\u001b[0m \u001b[0;34m==\u001b[0m \u001b[0mlen\u001b[0m\u001b[0;34m(\u001b[0m\u001b[0mindexer\u001b[0m\u001b[0;34m)\u001b[0m\u001b[0;34m:\u001b[0m\u001b[0;34m\u001b[0m\u001b[0;34m\u001b[0m\u001b[0m\n\u001b[1;32m   1297\u001b[0m                 \u001b[0maxis_name\u001b[0m \u001b[0;34m=\u001b[0m \u001b[0mself\u001b[0m\u001b[0;34m.\u001b[0m\u001b[0mobj\u001b[0m\u001b[0;34m.\u001b[0m\u001b[0m_get_axis_name\u001b[0m\u001b[0;34m(\u001b[0m\u001b[0maxis\u001b[0m\u001b[0;34m)\u001b[0m\u001b[0;34m\u001b[0m\u001b[0;34m\u001b[0m\u001b[0m\n\u001b[0;32m-> 1298\u001b[0;31m                 \u001b[0;32mraise\u001b[0m \u001b[0mKeyError\u001b[0m\u001b[0;34m(\u001b[0m\u001b[0;34mf\"None of [{key}] are in the [{axis_name}]\"\u001b[0m\u001b[0;34m)\u001b[0m\u001b[0;34m\u001b[0m\u001b[0;34m\u001b[0m\u001b[0m\n\u001b[0m\u001b[1;32m   1299\u001b[0m \u001b[0;34m\u001b[0m\u001b[0m\n\u001b[1;32m   1300\u001b[0m             \u001b[0;31m# We (temporarily) allow for some missing keys with .loc, except in\u001b[0m\u001b[0;34m\u001b[0m\u001b[0;34m\u001b[0m\u001b[0;34m\u001b[0m\u001b[0m\n",
      "\u001b[0;31mKeyError\u001b[0m: \"None of [Index(['Total amount bikes NL', 'Total amount bikes AMS', 'Purchased bikes NL',\\n       'Purchased bikes AMS', 'Fetched bikes NL', 'Fetched bikes AMS',\\n       'Purchased - Fetched bikes NL', 'Purchased - Fetched bikes AMS'],\\n      dtype='object')] are in the [columns]\""
     ]
    }
   ],
   "source": [
    "column_order_p = ['Total amount bikes NL','Total amount bikes AMS','Purchased bikes NL','Purchased bikes AMS','Fetched bikes NL','Fetched bikes AMS','Purchased - Fetched bikes NL','Purchased - Fetched bikes AMS']\n",
    "total_purchased = total_purchased[column_order_p ]\n"
   ]
  },
  {
   "cell_type": "code",
   "execution_count": 39,
   "metadata": {},
   "outputs": [
    {
     "data": {
      "text/html": [
       "<div>\n",
       "<style scoped>\n",
       "    .dataframe tbody tr th:only-of-type {\n",
       "        vertical-align: middle;\n",
       "    }\n",
       "\n",
       "    .dataframe tbody tr th {\n",
       "        vertical-align: top;\n",
       "    }\n",
       "\n",
       "    .dataframe thead th {\n",
       "        text-align: right;\n",
       "    }\n",
       "</style>\n",
       "<table border=\"1\" class=\"dataframe\">\n",
       "  <thead>\n",
       "    <tr style=\"text-align: right;\">\n",
       "      <th></th>\n",
       "      <th>Desc</th>\n",
       "      <th>2016</th>\n",
       "      <th>2017</th>\n",
       "      <th>2018</th>\n",
       "      <th>2019</th>\n",
       "    </tr>\n",
       "  </thead>\n",
       "  <tbody>\n",
       "    <tr>\n",
       "      <th>0</th>\n",
       "      <td>Total amount bikes NL</td>\n",
       "      <td>19032000</td>\n",
       "      <td>19960000</td>\n",
       "      <td>20917000</td>\n",
       "      <td>21928000</td>\n",
       "    </tr>\n",
       "    <tr>\n",
       "      <th>1</th>\n",
       "      <td>Total amount bikes AMS</td>\n",
       "      <td>687037</td>\n",
       "      <td>732057</td>\n",
       "      <td>778739</td>\n",
       "      <td>828274</td>\n",
       "    </tr>\n",
       "    <tr>\n",
       "      <th>2</th>\n",
       "      <td>Purchased - Fetched bikes NL</td>\n",
       "      <td>913000</td>\n",
       "      <td>942000</td>\n",
       "      <td>996000</td>\n",
       "      <td>1057000</td>\n",
       "    </tr>\n",
       "    <tr>\n",
       "      <th>3</th>\n",
       "      <td>Purchased bikes NL</td>\n",
       "      <td>928000</td>\n",
       "      <td>957000</td>\n",
       "      <td>1011000</td>\n",
       "      <td>1072000</td>\n",
       "    </tr>\n",
       "    <tr>\n",
       "      <th>4</th>\n",
       "      <td>Purchased bikes AMS</td>\n",
       "      <td>45020</td>\n",
       "      <td>46682</td>\n",
       "      <td>49535</td>\n",
       "      <td>52726</td>\n",
       "    </tr>\n",
       "    <tr>\n",
       "      <th>5</th>\n",
       "      <td>Fetched bikes AMS</td>\n",
       "      <td>6000</td>\n",
       "      <td>6000</td>\n",
       "      <td>6000</td>\n",
       "      <td>6000</td>\n",
       "    </tr>\n",
       "    <tr>\n",
       "      <th>6</th>\n",
       "      <td>Fetched bikes NL</td>\n",
       "      <td>15000</td>\n",
       "      <td>15000</td>\n",
       "      <td>15000</td>\n",
       "      <td>15000</td>\n",
       "    </tr>\n",
       "    <tr>\n",
       "      <th>7</th>\n",
       "      <td>Purchased - Fetched bikes AMS</td>\n",
       "      <td>39020</td>\n",
       "      <td>40682</td>\n",
       "      <td>43535</td>\n",
       "      <td>46726</td>\n",
       "    </tr>\n",
       "    <tr>\n",
       "      <th>8</th>\n",
       "      <td>Purchased - Fetched bikes NL</td>\n",
       "      <td>913000</td>\n",
       "      <td>942000</td>\n",
       "      <td>996000</td>\n",
       "      <td>1057000</td>\n",
       "    </tr>\n",
       "  </tbody>\n",
       "</table>\n",
       "</div>"
      ],
      "text/plain": [
       "                            Desc      2016      2017      2018      2019\n",
       "0          Total amount bikes NL  19032000  19960000  20917000  21928000\n",
       "1         Total amount bikes AMS    687037    732057    778739    828274\n",
       "2   Purchased - Fetched bikes NL    913000    942000    996000   1057000\n",
       "3             Purchased bikes NL    928000    957000   1011000   1072000\n",
       "4            Purchased bikes AMS     45020     46682     49535     52726\n",
       "5              Fetched bikes AMS      6000      6000      6000      6000\n",
       "6               Fetched bikes NL     15000     15000     15000     15000\n",
       "7  Purchased - Fetched bikes AMS     39020     40682     43535     46726\n",
       "8   Purchased - Fetched bikes NL    913000    942000    996000   1057000"
      ]
     },
     "execution_count": 39,
     "metadata": {},
     "output_type": "execute_result"
    }
   ],
   "source": [
    "total_purchased = total_purchased.transpose()\n",
    "total_purchased.reset_index()"
   ]
  },
  {
   "cell_type": "code",
   "execution_count": null,
   "metadata": {},
   "outputs": [],
   "source": []
  }
 ],
 "metadata": {
  "kernelspec": {
   "display_name": "Python 3",
   "language": "python",
   "name": "python3"
  },
  "language_info": {
   "codemirror_mode": {
    "name": "ipython",
    "version": 3
   },
   "file_extension": ".py",
   "mimetype": "text/x-python",
   "name": "python",
   "nbconvert_exporter": "python",
   "pygments_lexer": "ipython3",
   "version": "3.8.6"
  }
 },
 "nbformat": 4,
 "nbformat_minor": 4
}
