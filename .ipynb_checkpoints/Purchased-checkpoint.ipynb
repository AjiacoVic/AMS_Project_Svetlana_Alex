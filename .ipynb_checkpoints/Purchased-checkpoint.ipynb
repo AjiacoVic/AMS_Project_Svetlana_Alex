{
 "cells": [
  {
   "cell_type": "code",
   "execution_count": 2,
   "metadata": {},
   "outputs": [],
   "source": [
    "import pandas as pd\n",
    "import requests\n",
    "from io import StringIO"
   ]
  },
  {
   "cell_type": "code",
   "execution_count": 94,
   "metadata": {},
   "outputs": [
    {
     "data": {
      "text/html": [
       "<div>\n",
       "<style scoped>\n",
       "    .dataframe tbody tr th:only-of-type {\n",
       "        vertical-align: middle;\n",
       "    }\n",
       "\n",
       "    .dataframe tbody tr th {\n",
       "        vertical-align: top;\n",
       "    }\n",
       "\n",
       "    .dataframe thead th {\n",
       "        text-align: right;\n",
       "    }\n",
       "</style>\n",
       "<table border=\"1\" class=\"dataframe\">\n",
       "  <thead>\n",
       "    <tr style=\"text-align: right;\">\n",
       "      <th></th>\n",
       "      <th>Desc</th>\n",
       "      <th>2011</th>\n",
       "      <th>2012</th>\n",
       "      <th>2013</th>\n",
       "      <th>2014</th>\n",
       "      <th>2015</th>\n",
       "      <th>2016</th>\n",
       "      <th>2017</th>\n",
       "      <th>2018</th>\n",
       "      <th>Growth ratio</th>\n",
       "    </tr>\n",
       "  </thead>\n",
       "  <tbody>\n",
       "    <tr>\n",
       "      <th>0</th>\n",
       "      <td>Aantal (x 1000)</td>\n",
       "      <td>1198</td>\n",
       "      <td>1035</td>\n",
       "      <td>1008</td>\n",
       "      <td>1051</td>\n",
       "      <td>983</td>\n",
       "      <td>928</td>\n",
       "      <td>957</td>\n",
       "      <td>1011</td>\n",
       "      <td>0.06</td>\n",
       "    </tr>\n",
       "    <tr>\n",
       "      <th>1</th>\n",
       "      <td>Waarde (x € 1000)</td>\n",
       "      <td>879240</td>\n",
       "      <td>769159</td>\n",
       "      <td>797264</td>\n",
       "      <td>886605</td>\n",
       "      <td>899020</td>\n",
       "      <td>936829</td>\n",
       "      <td>976034</td>\n",
       "      <td>1220291</td>\n",
       "      <td>0.25</td>\n",
       "    </tr>\n",
       "  </tbody>\n",
       "</table>\n",
       "</div>"
      ],
      "text/plain": [
       "                Desc    2011    2012    2013    2014    2015    2016    2017  \\\n",
       "0    Aantal (x 1000)    1198    1035    1008    1051     983     928     957   \n",
       "1  Waarde (x € 1000)  879240  769159  797264  886605  899020  936829  976034   \n",
       "\n",
       "      2018  Growth ratio  \n",
       "0     1011          0.06  \n",
       "1  1220291          0.25  "
      ]
     },
     "execution_count": 94,
     "metadata": {},
     "output_type": "execute_result"
    }
   ],
   "source": [
    "orig_url = 'https://drive.google.com/file/d/1uXK-rG07T1njpXvTNxNZcmJrVJQmfeRc/view?usp=sharing'\n",
    "file_id = orig_url.split('/')[-2]\n",
    "dwn_url = 'https://drive.google.com/uc?export=download&id=' + file_id\n",
    "\n",
    "purchased = pd.read_excel(dwn_url, skiprows=1, names=['Desc', '2011', '2012', '2013', '2014', '2015', '2016', '2017', '2018',\n",
    "                                                      'Growth ratio'])\n",
    "purchased"
   ]
  },
  {
   "cell_type": "code",
   "execution_count": 95,
   "metadata": {},
   "outputs": [
    {
     "name": "stdout",
     "output_type": "stream",
     "text": [
      "                Desc    2011    2012    2013    2014    2015    2016    2017  \\\n",
      "0    Aantal (x 1000)    1198    1035    1008    1051     983     928     957   \n",
      "1  Waarde (x € 1000)  879240  769159  797264  886605  899020  936829  976034   \n",
      "\n",
      "      2018  Growth ratio  \n",
      "0     1011          0.06  \n",
      "1  1220291          0.25  \n",
      "(2, 10)\n"
     ]
    }
   ],
   "source": [
    "#Overview\n",
    "print(purchased.head())\n",
    "print(purchased.shape)\n",
    "# purchased.columns() # It looks like there is no such method for data frames."
   ]
  },
  {
   "cell_type": "code",
   "execution_count": 96,
   "metadata": {},
   "outputs": [
    {
     "data": {
      "text/plain": [
       "Desc             object\n",
       "2011              int64\n",
       "2012              int64\n",
       "2013              int64\n",
       "2014              int64\n",
       "2015              int64\n",
       "2016              int64\n",
       "2017              int64\n",
       "2018              int64\n",
       "Growth ratio    float64\n",
       "dtype: object"
      ]
     },
     "execution_count": 96,
     "metadata": {},
     "output_type": "execute_result"
    }
   ],
   "source": [
    "#Checking the types\n",
    "purchased.dtypes"
   ]
  },
  {
   "cell_type": "code",
   "execution_count": 97,
   "metadata": {},
   "outputs": [],
   "source": [
    "#Adding the missing column. To be able to extrapolate the missing values later\n",
    "purchased['2019']=\"\""
   ]
  },
  {
   "cell_type": "code",
   "execution_count": 98,
   "metadata": {
    "scrolled": true
   },
   "outputs": [
    {
     "data": {
      "text/html": [
       "<div>\n",
       "<style scoped>\n",
       "    .dataframe tbody tr th:only-of-type {\n",
       "        vertical-align: middle;\n",
       "    }\n",
       "\n",
       "    .dataframe tbody tr th {\n",
       "        vertical-align: top;\n",
       "    }\n",
       "\n",
       "    .dataframe thead th {\n",
       "        text-align: right;\n",
       "    }\n",
       "</style>\n",
       "<table border=\"1\" class=\"dataframe\">\n",
       "  <thead>\n",
       "    <tr style=\"text-align: right;\">\n",
       "      <th></th>\n",
       "      <th>Desc</th>\n",
       "      <th>2011</th>\n",
       "      <th>2012</th>\n",
       "      <th>2013</th>\n",
       "      <th>2014</th>\n",
       "      <th>2015</th>\n",
       "      <th>2016</th>\n",
       "      <th>2017</th>\n",
       "      <th>2018</th>\n",
       "      <th>Growth ratio</th>\n",
       "      <th>2019</th>\n",
       "    </tr>\n",
       "  </thead>\n",
       "  <tbody>\n",
       "    <tr>\n",
       "      <th>0</th>\n",
       "      <td>Aantal (x 1000)</td>\n",
       "      <td>1198</td>\n",
       "      <td>1035</td>\n",
       "      <td>1008</td>\n",
       "      <td>1051</td>\n",
       "      <td>983</td>\n",
       "      <td>928</td>\n",
       "      <td>957</td>\n",
       "      <td>1011</td>\n",
       "      <td>0.06</td>\n",
       "      <td>1072</td>\n",
       "    </tr>\n",
       "    <tr>\n",
       "      <th>1</th>\n",
       "      <td>Waarde (x € 1000)</td>\n",
       "      <td>879240</td>\n",
       "      <td>769159</td>\n",
       "      <td>797264</td>\n",
       "      <td>886605</td>\n",
       "      <td>899020</td>\n",
       "      <td>936829</td>\n",
       "      <td>976034</td>\n",
       "      <td>1220291</td>\n",
       "      <td>0.25</td>\n",
       "      <td>1525364</td>\n",
       "    </tr>\n",
       "  </tbody>\n",
       "</table>\n",
       "</div>"
      ],
      "text/plain": [
       "                Desc    2011    2012    2013    2014    2015    2016    2017  \\\n",
       "0    Aantal (x 1000)    1198    1035    1008    1051     983     928     957   \n",
       "1  Waarde (x € 1000)  879240  769159  797264  886605  899020  936829  976034   \n",
       "\n",
       "      2018  Growth ratio     2019  \n",
       "0     1011          0.06     1072  \n",
       "1  1220291          0.25  1525364  "
      ]
     },
     "execution_count": 98,
     "metadata": {},
     "output_type": "execute_result"
    }
   ],
   "source": [
    "# Calculating 2019 quantity based on growth ratio\n",
    "purchased['2019'] = round(purchased['2018']*(1+purchased['Growth ratio']), 0).astype(int)\n",
    "purchased"
   ]
  },
  {
   "cell_type": "code",
   "execution_count": 99,
   "metadata": {},
   "outputs": [],
   "source": [
    "#Taking out the columns and the row that we won't be needing\n",
    "total_purchased = purchased.drop(['2011', '2012', '2013', '2014', '2015', 'Growth ratio'],axis=1)\n",
    "total_purchased = total_purchased.loc[total_purchased['Desc'] == 'Aantal (x 1000)']"
   ]
  },
  {
   "cell_type": "code",
   "execution_count": 100,
   "metadata": {},
   "outputs": [],
   "source": [
    "total_purchased['Desc'] = total_purchased['Desc'].replace('Purchased bikes')"
   ]
  },
  {
   "cell_type": "code",
   "execution_count": 102,
   "metadata": {},
   "outputs": [],
   "source": [
    "total_purchased = total_purchased[['2016', '2017', '2018', '2019']].apply(lambda x: x*1000)\n",
    "total_purchased.insert(0, 'Desc', 'Purchased bikes')\n"
   ]
  },
  {
   "cell_type": "code",
   "execution_count": 104,
   "metadata": {},
   "outputs": [
    {
     "data": {
      "text/html": [
       "<div>\n",
       "<style scoped>\n",
       "    .dataframe tbody tr th:only-of-type {\n",
       "        vertical-align: middle;\n",
       "    }\n",
       "\n",
       "    .dataframe tbody tr th {\n",
       "        vertical-align: top;\n",
       "    }\n",
       "\n",
       "    .dataframe thead th {\n",
       "        text-align: right;\n",
       "    }\n",
       "</style>\n",
       "<table border=\"1\" class=\"dataframe\">\n",
       "  <thead>\n",
       "    <tr style=\"text-align: right;\">\n",
       "      <th></th>\n",
       "      <th>Desc</th>\n",
       "      <th>2016</th>\n",
       "      <th>2017</th>\n",
       "      <th>2018</th>\n",
       "      <th>2019</th>\n",
       "    </tr>\n",
       "  </thead>\n",
       "  <tbody>\n",
       "    <tr>\n",
       "      <th>0</th>\n",
       "      <td>Purchased bikes</td>\n",
       "      <td>928000</td>\n",
       "      <td>957000</td>\n",
       "      <td>1011000</td>\n",
       "      <td>1072000</td>\n",
       "    </tr>\n",
       "  </tbody>\n",
       "</table>\n",
       "</div>"
      ],
      "text/plain": [
       "              Desc    2016    2017     2018     2019\n",
       "0  Purchased bikes  928000  957000  1011000  1072000"
      ]
     },
     "execution_count": 104,
     "metadata": {},
     "output_type": "execute_result"
    }
   ],
   "source": [
    "total_purchased"
   ]
  },
  {
   "cell_type": "code",
   "execution_count": null,
   "metadata": {},
   "outputs": [],
   "source": []
  }
 ],
 "metadata": {
  "kernelspec": {
   "display_name": "Python 3",
   "language": "python",
   "name": "python3"
  },
  "language_info": {
   "codemirror_mode": {
    "name": "ipython",
    "version": 3
   },
   "file_extension": ".py",
   "mimetype": "text/x-python",
   "name": "python",
   "nbconvert_exporter": "python",
   "pygments_lexer": "ipython3",
   "version": "3.8.3"
  }
 },
 "nbformat": 4,
 "nbformat_minor": 4
}
