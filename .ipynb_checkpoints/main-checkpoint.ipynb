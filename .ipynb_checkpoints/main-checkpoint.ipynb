{
 "cells": [
  {
   "cell_type": "code",
   "execution_count": 1,
   "metadata": {},
   "outputs": [
    {
     "name": "stderr",
     "output_type": "stream",
     "text": [
      "<ipython-input-1-a0516359850a>:7: ParserWarning: Falling back to the 'python' engine because the 'c' engine does not support regex separators (separators > 1 char and different from '\\s+' are interpreted as regex); you can avoid this warning by specifying engine='python'.\n",
      "  df_stollen = pd.read_csv(csv_raw, skiprows=6, sep='\";\"', names=['Desc', '2010', '2011', '2012', '2013', '2014', '2015',\n"
     ]
    },
    {
     "name": "stdout",
     "output_type": "stream",
     "text": [
      "                Desc    2011    2012    2013    2014    2015    2016    2017  \\\n",
      "0    Aantal (x 1000)    1198    1035    1008    1051     983     928     957   \n",
      "1  Waarde (x € 1000)  879240  769159  797264  886605  899020  936829  976034   \n",
      "\n",
      "      2018  Growth ratio  \n",
      "0     1011          0.06  \n",
      "1  1220291          0.25  \n",
      "(2, 10)\n"
     ]
    },
    {
     "name": "stderr",
     "output_type": "stream",
     "text": [
      "<ipython-input-1-42f1a593a19d>:1: SettingWithCopyWarning: \n",
      "A value is trying to be set on a copy of a slice from a DataFrame\n",
      "\n",
      "See the caveats in the documentation: https://pandas.pydata.org/pandas-docs/stable/user_guide/indexing.html#returning-a-view-versus-a-copy\n",
      "  pop_percentage ['Desc'][1] = 'Pct_Population_AMS'\n",
      "<ipython-input-1-42f1a593a19d>:2: SettingWithCopyWarning: \n",
      "A value is trying to be set on a copy of a slice from a DataFrame\n",
      "\n",
      "See the caveats in the documentation: https://pandas.pydata.org/pandas-docs/stable/user_guide/indexing.html#returning-a-view-versus-a-copy\n",
      "  pop_percentage ['Desc'][5] = 'Pct_Population_NL'\n",
      "<ipython-input-1-ccd29760d882>:2: SettingWithCopyWarning: \n",
      "A value is trying to be set on a copy of a slice from a DataFrame\n",
      "\n",
      "See the caveats in the documentation: https://pandas.pydata.org/pandas-docs/stable/user_guide/indexing.html#returning-a-view-versus-a-copy\n",
      "  population['Desc'][1] = 'Pop_Increase_AMS'\n",
      "<ipython-input-1-ccd29760d882>:3: SettingWithCopyWarning: \n",
      "A value is trying to be set on a copy of a slice from a DataFrame\n",
      "\n",
      "See the caveats in the documentation: https://pandas.pydata.org/pandas-docs/stable/user_guide/indexing.html#returning-a-view-versus-a-copy\n",
      "  population['Desc'][5] = 'Pop_Increase_NL'\n"
     ]
    }
   ],
   "source": [
    "%run ./stollen.ipynb\n",
    "%run ./confiscated.ipynb\n",
    "%run ./Purchased.ipynb\n",
    "%run ./Population.ipynb"
   ]
  },
  {
   "cell_type": "code",
   "execution_count": 2,
   "metadata": {
    "scrolled": true
   },
   "outputs": [
    {
     "data": {
      "text/html": [
       "<div>\n",
       "<style scoped>\n",
       "    .dataframe tbody tr th:only-of-type {\n",
       "        vertical-align: middle;\n",
       "    }\n",
       "\n",
       "    .dataframe tbody tr th {\n",
       "        vertical-align: top;\n",
       "    }\n",
       "\n",
       "    .dataframe thead th {\n",
       "        text-align: right;\n",
       "    }\n",
       "</style>\n",
       "<table border=\"1\" class=\"dataframe\">\n",
       "  <thead>\n",
       "    <tr style=\"text-align: right;\">\n",
       "      <th></th>\n",
       "      <th>Desc</th>\n",
       "      <th>2016</th>\n",
       "      <th>2017</th>\n",
       "      <th>2018</th>\n",
       "      <th>2019</th>\n",
       "    </tr>\n",
       "  </thead>\n",
       "  <tbody>\n",
       "    <tr>\n",
       "      <th>0</th>\n",
       "      <td>Purchased bikes</td>\n",
       "      <td>928000.0</td>\n",
       "      <td>957000.0</td>\n",
       "      <td>1011000.0</td>\n",
       "      <td>1072000.0</td>\n",
       "    </tr>\n",
       "    <tr>\n",
       "      <th>1</th>\n",
       "      <td>Purchased bikes AMS</td>\n",
       "      <td>45020.0</td>\n",
       "      <td>46682.0</td>\n",
       "      <td>49535.0</td>\n",
       "      <td>52726.0</td>\n",
       "    </tr>\n",
       "    <tr>\n",
       "      <th>2</th>\n",
       "      <td>Fetched bikes AMS</td>\n",
       "      <td>6000.0</td>\n",
       "      <td>6000.0</td>\n",
       "      <td>6000.0</td>\n",
       "      <td>6000.0</td>\n",
       "    </tr>\n",
       "    <tr>\n",
       "      <th>3</th>\n",
       "      <td>Fetched bikes NL</td>\n",
       "      <td>15000.0</td>\n",
       "      <td>15000.0</td>\n",
       "      <td>15000.0</td>\n",
       "      <td>15000.0</td>\n",
       "    </tr>\n",
       "    <tr>\n",
       "      <th>4</th>\n",
       "      <td>Confiscated bikes</td>\n",
       "      <td>65308.0</td>\n",
       "      <td>81128.0</td>\n",
       "      <td>78506.0</td>\n",
       "      <td>96061.0</td>\n",
       "    </tr>\n",
       "    <tr>\n",
       "      <th>5</th>\n",
       "      <td>Conf.bikes left market</td>\n",
       "      <td>21769.0</td>\n",
       "      <td>27043.0</td>\n",
       "      <td>26169.0</td>\n",
       "      <td>32020.0</td>\n",
       "    </tr>\n",
       "    <tr>\n",
       "      <th>6</th>\n",
       "      <td>Pct_Population_AMS</td>\n",
       "      <td>1.2</td>\n",
       "      <td>1.1</td>\n",
       "      <td>1.0</td>\n",
       "      <td>1.1</td>\n",
       "    </tr>\n",
       "    <tr>\n",
       "      <th>7</th>\n",
       "      <td>Pct_Population_NL</td>\n",
       "      <td>0.6</td>\n",
       "      <td>0.6</td>\n",
       "      <td>0.6</td>\n",
       "      <td>0.7</td>\n",
       "    </tr>\n",
       "  </tbody>\n",
       "</table>\n",
       "</div>"
      ],
      "text/plain": [
       "                     Desc      2016      2017       2018       2019\n",
       "0         Purchased bikes  928000.0  957000.0  1011000.0  1072000.0\n",
       "1     Purchased bikes AMS   45020.0   46682.0    49535.0    52726.0\n",
       "2       Fetched bikes AMS    6000.0    6000.0     6000.0     6000.0\n",
       "3        Fetched bikes NL   15000.0   15000.0    15000.0    15000.0\n",
       "4       Confiscated bikes   65308.0   81128.0    78506.0    96061.0\n",
       "5  Conf.bikes left market   21769.0   27043.0    26169.0    32020.0\n",
       "6      Pct_Population_AMS       1.2       1.1        1.0        1.1\n",
       "7       Pct_Population_NL       0.6       0.6        0.6        0.7"
      ]
     },
     "execution_count": 2,
     "metadata": {},
     "output_type": "execute_result"
    }
   ],
   "source": [
    "bigdata = pd.concat([total_purchased, total_conf, pop_percentage], ignore_index=True, sort=False)\n",
    "bigdata"
   ]
  },
  {
   "cell_type": "code",
   "execution_count": null,
   "metadata": {},
   "outputs": [],
   "source": []
  }
 ],
 "metadata": {
  "kernelspec": {
   "display_name": "Python 3",
   "language": "python",
   "name": "python3"
  },
  "language_info": {
   "codemirror_mode": {
    "name": "ipython",
    "version": 3
   },
   "file_extension": ".py",
   "mimetype": "text/x-python",
   "name": "python",
   "nbconvert_exporter": "python",
   "pygments_lexer": "ipython3",
   "version": "3.8.3"
  }
 },
 "nbformat": 4,
 "nbformat_minor": 4
}
